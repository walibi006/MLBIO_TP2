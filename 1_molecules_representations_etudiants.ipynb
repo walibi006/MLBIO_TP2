{
  "cells": [
    {
      "cell_type": "code",
      "execution_count": null,
      "metadata": {
        "id": "9qJCFDsxp3wJ"
      },
      "outputs": [],
      "source": [
        "# Install rdkit\n",
        "#!pip install rdkit-pypi"
      ]
    },
    {
      "cell_type": "markdown",
      "metadata": {
        "id": "TYs-WClCqSsy"
      },
      "source": [
        "## Ex 1. Read molecules from SMILES\n",
        "\n",
        "SMILES (Simplified Molecular-Input Line-Entry System) is a popular method for specifying molecules with text string. The RDkit library provides utilities to read molecules from SMILES.\n",
        "\n",
        "\n",
        "Paracetamol (Acetaminophen) is a commonly used medicine that can help treat pain and reduce a high temperature. It's given by the chemical formula $ C_8H_9N O_2$ and its SMILES is \"CC(=O)NC1=CC=C(O)C=C1\".\n",
        "\n",
        "\n",
        "1. Create the paracetamol molecule from its SMILES using the rdkit.Chem.MolFromSmiles class.\n",
        "\n",
        "\n",
        "2. Visualize its structure (it's sufficient to print the paracetamol molecule or to use rdkit.Chem.Draw.MolToImage())\n",
        "\n",
        "\n",
        "3. Print out the number of atoms. Did you get 11 ? It should be 20 atoms ? Why ?\n",
        "\n",
        "\n",
        "\n",
        "4. Print out the list of atoms.\n",
        "\n",
        "\n",
        "5. Find the number of bonds.\n",
        "\n"
      ]
    },
    {
      "cell_type": "code",
      "execution_count": 3,
      "metadata": {
        "id": "1_1JGHtMEulb"
      },
      "outputs": [],
      "source": [
        "from rdkit import Chem\n",
        "paracetamol_molecule = Chem.MolFromSmiles(\"CC(=O)NC1=CC=C(O)C=C1\")"
      ]
    },
    {
      "cell_type": "code",
      "execution_count": 4,
      "metadata": {
        "id": "jjX2FsZJEvj7"
      },
      "outputs": [
        {
          "data": {
            "image/jpeg": "[encoded data removed]",
            "image/png": "[encoded data removed]",
            "text/plain": [
              "<PIL.PngImagePlugin.PngImageFile image mode=RGB size=300x300>"
            ]
          },
          "execution_count": 4,
          "metadata": {},
          "output_type": "execute_result"
        }
      ],
      "source": [
        "Chem.Draw.MolToImage(paracetamol_molecule)"
      ]
    },
    {
      "cell_type": "code",
      "execution_count": 5,
      "metadata": {
        "id": "ccbbFmLOqDJV"
      },
      "outputs": [
        {
          "name": "stdout",
          "output_type": "stream",
          "text": [
            "Number of atoms:  11\n"
          ]
        }
      ],
      "source": [
        "num_atoms = paracetamol_molecule.GetNumAtoms()\n",
        "\n",
        "print(\"Number of atoms: \", num_atoms)"
      ]
    },
    {
      "cell_type": "markdown",
      "metadata": {},
      "source": [
        "There is 11 atoms insteed of 20 probably because the SMILES representation makes the Hydrogen atoms implicit."
      ]
    },
    {
      "cell_type": "code",
      "execution_count": 6,
      "metadata": {
        "id": "8snxocdqsKNJ"
      },
      "outputs": [
        {
          "name": "stdout",
          "output_type": "stream",
          "text": [
            "Atom 1: C\n",
            "Atom 2: C\n",
            "Atom 3: O\n",
            "Atom 4: N\n",
            "Atom 5: C\n",
            "Atom 6: C\n",
            "Atom 7: C\n",
            "Atom 8: C\n",
            "Atom 9: O\n",
            "Atom 10: C\n",
            "Atom 11: C\n"
          ]
        }
      ],
      "source": [
        "atoms = paracetamol_molecule.GetAtoms()\n",
        "for atom in atoms:\n",
        "        atom_index = atom.GetIdx()\n",
        "        atom_symbol = atom.GetSymbol()\n",
        "        print(f\"Atom {atom_index + 1}: {atom_symbol}\")"
      ]
    },
    {
      "cell_type": "code",
      "execution_count": 7,
      "metadata": {
        "id": "3yiWFSgdsk0j"
      },
      "outputs": [
        {
          "name": "stdout",
          "output_type": "stream",
          "text": [
            "Number of bounds:  11\n"
          ]
        }
      ],
      "source": [
        "num_bounds = paracetamol_molecule.GetNumBonds()\n",
        "print(\"Number of bounds: \", num_bounds)"
      ]
    },
    {
      "cell_type": "markdown",
      "metadata": {
        "id": "5ch4vabFuReu"
      },
      "source": [
        "## Ex 2 Read data from chemical file format\n",
        "\n",
        "Apart SMILES, .SDF/ .Mol are also the common formats to save molecules. RDKit provides also functionalities to read these files.\n",
        "\n",
        "\n",
        "Morphine is an opioid agonist used for the relief of moderate to severe acute and chronic pain. The chemical information of this drug can be found at\n",
        "\"https://go.drugbank.com/structures/small_molecule_drugs/DB00295.sdf\".\n",
        "\n",
        "\n",
        "1. Download this file and save it in a folder.\n",
        "\n",
        "\n",
        "2. Read the morphine molecule from the file that you've downloaded using \"rdkit.Chem.SDMolSupplier\"\n",
        "\n",
        "\n",
        "3. With the help of rdkit.Chem.AllChem.GetMorganFingerprintAsBitVect, compute its fingerprint as a bit vector."
      ]
    },
    {
      "cell_type": "code",
      "execution_count": 8,
      "metadata": {
        "id": "9VLF599Yv5V1"
      },
      "outputs": [],
      "source": [
        "morphine = Chem.SDMolSupplier(\"molecules/morphine.sdf\")[0]"
      ]
    },
    {
      "cell_type": "code",
      "execution_count": 9,
      "metadata": {
        "id": "MfzZWrz82ox4"
      },
      "outputs": [
        {
          "data": {
            "image/jpeg": "[encoded data removed]",
            "image/png": "[encoded data removed]",
            "text/plain": [
              "<PIL.PngImagePlugin.PngImageFile image mode=RGB size=300x300>"
            ]
          },
          "execution_count": 9,
          "metadata": {},
          "output_type": "execute_result"
        }
      ],
      "source": [
        "Chem.Draw.MolToImage(morphine)"
      ]
    },
    {
      "cell_type": "code",
      "execution_count": 10,
      "metadata": {
        "id": "9Cb8JDUe0pOw"
      },
      "outputs": [
        {
          "data": {
            "text/plain": [
              "'0000000000000001000000000000000001001000000000000000000000010000000100000000010000000000000000000000000000000000000000000100000000000000001000000001001000000000000000000000000000000000000000000000000000000000000110000000000000000001010000000000000000000000000000000000001000000000000000000000000010000000000000010000000000000000000000000000000000000000000010000000000000000000000000000000000000000000000000001000010000000000000000000000000000000000000100001000000000000000000000000000001000000000010000000000000000000000000000000000010000000000000000000010000000000000010000000010100100000000000000100000000000000000000000000000000000000000000000010000000010000000010000000000000000000000000000000000000001000000000000000000001000000000000000000000001000000000000000000000000000000000000000000000000000000001000000000000000000000000000000000000000001000000000000000000000001000000000000000000000000000000000000000000000000000010000000010000100000000000000010000000000000000000000000000000000000000000000000000000000000010000'"
            ]
          },
          "execution_count": 10,
          "metadata": {},
          "output_type": "execute_result"
        }
      ],
      "source": [
        "from rdkit.Chem import AllChem\n",
        "\n",
        "fingerprint = AllChem.GetMorganFingerprintAsBitVect(morphine, 2, nBits=1024)\n",
        "fingerprint.ToBitString()"
      ]
    },
    {
      "cell_type": "markdown",
      "metadata": {
        "id": "gljbmF6p3RX8"
      },
      "source": [
        "## EX3. Fingerprints\n",
        "\n",
        "\n",
        "A chemical structure can be characterized by a set of numerical values known as molecular fingerprints. They may be 2D Fragment-based fingerprints presented by bit arrays of 0s and 1s wherein each bit position indicates the presence or absence of structural fragments.\n",
        "\n",
        "\n",
        "The RDKit has a variety of built-in functionality for generating molecular fingerprints and then using them to calculate molecular similarity. In this exercise, we will generate the fingerprints for parcetamol and aspirin that are two popular drugs used for pains.\n",
        "\n",
        "\n",
        "\n",
        "1. Compute the fingerprint of the paracetamol as bit vector by using the rdkit.AllChem.GetMorganFingerprintAsBitVectCompute Class. Convert it to a numpy vector. Known that Paracetamol's SMILES is \"\"CC(=O)OC1=CC=CC=C1C(O)=O\". Choose the number of bits nBits= 1024. Find the elements that are nonzero of the vector.\n",
        "\n",
        "2. Do the same thing for the aspirin. Aspirin's SMILES is \"CC(=O)NC1=CC=C(O)C=C1\".\n",
        "\n",
        "\n",
        "\n",
        "3. Using rdkit.DataStructs.DiceSimilarity(), compute the DiceSimilarity between the fingerprints of the paracetamol and the aspirin."
      ]
    },
    {
      "cell_type": "code",
      "execution_count": 26,
      "metadata": {
        "id": "8PALjOz5232Z"
      },
      "outputs": [
        {
          "name": "stdout",
          "output_type": "stream",
          "text": [
            "Number of non-zero elements:  19\n"
          ]
        }
      ],
      "source": [
        "import numpy as np\n",
        "paracetamol_fingerprint = AllChem.GetMorganFingerprintAsBitVect(paracetamol_molecule, 2, nBits=1024)\n",
        "paracetamol_fingerprint_np = np.array(paracetamol_fingerprint.ToList())\n",
        "non_zero_elements_paracetamol = np.nonzero(paracetamol_fingerprint_np)\n",
        "\n",
        "print(\"Number of non-zero elements: \", len(non_zero_elements_paracetamol[0]))"
      ]
    },
    {
      "cell_type": "code",
      "execution_count": 27,
      "metadata": {
        "id": "5PdK21vk3akj"
      },
      "outputs": [
        {
          "name": "stdout",
          "output_type": "stream",
          "text": [
            "Number of non-zero elements:  19\n"
          ]
        }
      ],
      "source": [
        "aspirin_molecule = Chem.MolFromSmiles(\"CC(=O)NC1=CC=C(O)C=C1\")\n",
        "aspirin_fingerprint = AllChem.GetMorganFingerprintAsBitVect(aspirin_molecule, 2, nBits=1024)\n",
        "aspirin_fingerprint_np = np.array(aspirin_fingerprint.ToList())\n",
        "non_zero_elements_aspirin = np.nonzero(aspirin_fingerprint_np)\n",
        "\n",
        "print(\"Number of non-zero elements: \", len(non_zero_elements_aspirin[0]))"
      ]
    },
    {
      "cell_type": "code",
      "execution_count": 24,
      "metadata": {
        "id": "FWUW82xM3de5"
      },
      "outputs": [
        {
          "name": "stdout",
          "output_type": "stream",
          "text": [
            "Dice Similarity between Paracetamol and Aspirin: 1.0\n"
          ]
        }
      ],
      "source": [
        "from rdkit import DataStructs\n",
        "similarity_paracetamol_aspirin = DataStructs.DiceSimilarity(paracetamol_fingerprint, aspirin_fingerprint)\n",
        "\n",
        "print(f\"Dice Similarity between Paracetamol and Aspirin: {similarity_paracetamol_aspirin}\")"
      ]
    },
    {
      "cell_type": "markdown",
      "metadata": {
        "id": "GZXsjZGw3ofC"
      },
      "source": [
        "## EX 4: Descriptors\n",
        "\n",
        "Molecules are also described by a set of physiochemical descriptors. They should be the log partition coefficient, the polar surface area ... that describe the molecule's structure.\n",
        "\n",
        "\n",
        "RDKit provides utilities that allow us to compute descriptor of molecules.\n",
        "Using the rdkit.ML.Descriptors.MoleculeDescriptors.MolecularDescriptorCalculator class, compute the descriptor for paracetamol molecule from SMILES string. Note that SMILES string for paracetamol is \"CC(=O)NC1=CC=C(O)C=C1\"\n",
        "\n"
      ]
    },
    {
      "cell_type": "code",
      "execution_count": 30,
      "metadata": {
        "id": "vQcACF5K3l1y"
      },
      "outputs": [],
      "source": [
        "from rdkit.Chem import Descriptors\n",
        "from rdkit.ML.Descriptors.MoleculeDescriptors import MolecularDescriptorCalculator\n",
        "\n",
        "calculator = MolecularDescriptorCalculator([desc[0] for desc in Descriptors._descList])"
      ]
    },
    {
      "cell_type": "code",
      "execution_count": 31,
      "metadata": {
        "id": "uKfd9F_93urZ"
      },
      "outputs": [
        {
          "name": "stdout",
          "output_type": "stream",
          "text": [
            "MaxEStateIndex: 10.524468537414966\n",
            "MinEStateIndex: -0.11510204081632636\n",
            "MaxAbsEStateIndex: 10.524468537414966\n",
            "MinAbsEStateIndex: 0.11510204081632636\n",
            "qed: 0.5950261967780849\n",
            "MolWt: 151.165\n",
            "HeavyAtomMolWt: 142.093\n",
            "ExactMolWt: 151.063328528\n",
            "NumValenceElectrons: 58\n",
            "NumRadicalElectrons: 0\n",
            "MaxPartialCharge: 0.22074743631242583\n",
            "MinPartialCharge: -0.5079643157925783\n",
            "MaxAbsPartialCharge: 0.5079643157925783\n",
            "MinAbsPartialCharge: 0.22074743631242583\n",
            "FpDensityMorgan1: 1.3636363636363635\n",
            "FpDensityMorgan2: 1.9090909090909092\n",
            "FpDensityMorgan3: 2.3636363636363638\n",
            "BCUT2D_MWHI: 16.25468871437965\n",
            "BCUT2D_MWLOW: 10.280190859964755\n",
            "BCUT2D_CHGHI: 1.9280360590359866\n",
            "BCUT2D_CHGLO: -1.9945540738765895\n",
            "BCUT2D_LOGPHI: 2.12524757916018\n",
            "BCUT2D_LOGPLOW: -2.04401131261029\n",
            "BCUT2D_MRHI: 5.88095478459792\n",
            "BCUT2D_MRLOW: -0.11373578338266109\n",
            "BalabanJ: 2.7362980721056545\n",
            "BertzCT: 253.29949758389105\n",
            "Chi0: 8.267584713501616\n",
            "Chi0n: 6.164862962722325\n",
            "Chi0v: 6.164862962722325\n",
            "Chi1: 5.1815405503520555\n",
            "Chi1n: 3.2490981480278296\n",
            "Chi1v: 3.2490981480278296\n",
            "Chi2n: 2.228060242189872\n",
            "Chi2v: 2.228060242189872\n",
            "Chi3n: 1.1876733148984595\n",
            "Chi3v: 1.1876733148984595\n",
            "Chi4n: 0.7480265991539318\n",
            "Chi4v: 0.7480265991539318\n",
            "HallKierAlpha: -1.5099999999999998\n",
            "Ipc: 285.51074052739676\n",
            "Kappa1: 7.595374077976819\n",
            "Kappa2: 3.0531381005525\n",
            "Kappa3: 2.292303972882069\n",
            "LabuteASA: 64.66690538413799\n",
            "PEOE_VSA1: 10.423315998847038\n",
            "PEOE_VSA10: 5.749511833283905\n",
            "PEOE_VSA11: 0.0\n",
            "PEOE_VSA12: 5.907179729351506\n",
            "PEOE_VSA13: 0.0\n",
            "PEOE_VSA14: 0.0\n",
            "PEOE_VSA2: 4.794537184071822\n",
            "PEOE_VSA3: 0.0\n",
            "PEOE_VSA4: 0.0\n",
            "PEOE_VSA5: 0.0\n",
            "PEOE_VSA6: 0.0\n",
            "PEOE_VSA7: 24.26546827384644\n",
            "PEOE_VSA8: 12.611123474374185\n",
            "PEOE_VSA9: 0.0\n",
            "SMR_VSA1: 9.901064578912528\n",
            "SMR_VSA10: 11.594566004035068\n",
            "SMR_VSA2: 0.0\n",
            "SMR_VSA3: 0.0\n",
            "SMR_VSA4: 0.0\n",
            "SMR_VSA5: 6.923737199690624\n",
            "SMR_VSA6: 5.316788604006331\n",
            "SMR_VSA7: 24.26546827384644\n",
            "SMR_VSA8: 0.0\n",
            "SMR_VSA9: 5.749511833283905\n",
            "SlogP_VSA1: 5.316788604006331\n",
            "SlogP_VSA10: 5.687386274683562\n",
            "SlogP_VSA11: 5.749511833283905\n",
            "SlogP_VSA12: 0.0\n",
            "SlogP_VSA2: 11.013707124192212\n",
            "SlogP_VSA3: 4.794537184071822\n",
            "SlogP_VSA4: 0.0\n",
            "SlogP_VSA5: 6.923737199690624\n",
            "SlogP_VSA6: 24.26546827384644\n",
            "SlogP_VSA7: 0.0\n",
            "SlogP_VSA8: 0.0\n",
            "SlogP_VSA9: 0.0\n",
            "TPSA: 49.33\n",
            "EState_VSA1: 0.0\n",
            "EState_VSA10: 4.794537184071822\n",
            "EState_VSA11: 0.0\n",
            "EState_VSA2: 11.65669156263541\n",
            "EState_VSA3: 5.687386274683562\n",
            "EState_VSA4: 0.0\n",
            "EState_VSA5: 19.056471336613843\n",
            "EState_VSA6: 12.13273413692322\n",
            "EState_VSA7: 0.0\n",
            "EState_VSA8: 5.316788604006331\n",
            "EState_VSA9: 5.106527394840706\n",
            "VSA_EState1: 0.0\n",
            "VSA_EState10: 0.0\n",
            "VSA_EState2: 10.524468537414966\n",
            "VSA_EState3: 11.460032596371882\n",
            "VSA_EState4: 0.6900925925925929\n",
            "VSA_EState5: 0.07851095993953194\n",
            "VSA_EState6: 6.309537037037037\n",
            "VSA_EState7: 0.0\n",
            "VSA_EState8: 1.437358276643991\n",
            "VSA_EState9: 0.0\n",
            "FractionCSP3: 0.125\n",
            "HeavyAtomCount: 11\n",
            "NHOHCount: 2\n",
            "NOCount: 3\n",
            "NumAliphaticCarbocycles: 0\n",
            "NumAliphaticHeterocycles: 0\n",
            "NumAliphaticRings: 0\n",
            "NumAromaticCarbocycles: 1\n",
            "NumAromaticHeterocycles: 0\n",
            "NumAromaticRings: 1\n",
            "NumHAcceptors: 2\n",
            "NumHDonors: 2\n",
            "NumHeteroatoms: 3\n",
            "NumRotatableBonds: 1\n",
            "NumSaturatedCarbocycles: 0\n",
            "NumSaturatedHeterocycles: 0\n",
            "NumSaturatedRings: 0\n",
            "RingCount: 1\n",
            "MolLogP: 1.3505999999999998\n",
            "MolMR: 42.41050000000002\n",
            "fr_Al_COO: 0\n",
            "fr_Al_OH: 0\n",
            "fr_Al_OH_noTert: 0\n",
            "fr_ArN: 0\n",
            "fr_Ar_COO: 0\n",
            "fr_Ar_N: 0\n",
            "fr_Ar_NH: 0\n",
            "fr_Ar_OH: 1\n",
            "fr_COO: 0\n",
            "fr_COO2: 0\n",
            "fr_C_O: 1\n",
            "fr_C_O_noCOO: 1\n",
            "fr_C_S: 0\n",
            "fr_HOCCN: 0\n",
            "fr_Imine: 0\n",
            "fr_NH0: 0\n",
            "fr_NH1: 1\n",
            "fr_NH2: 0\n",
            "fr_N_O: 0\n",
            "fr_Ndealkylation1: 0\n",
            "fr_Ndealkylation2: 0\n",
            "fr_Nhpyrrole: 0\n",
            "fr_SH: 0\n",
            "fr_aldehyde: 0\n",
            "fr_alkyl_carbamate: 0\n",
            "fr_alkyl_halide: 0\n",
            "fr_allylic_oxid: 0\n",
            "fr_amide: 1\n",
            "fr_amidine: 0\n",
            "fr_aniline: 1\n",
            "fr_aryl_methyl: 0\n",
            "fr_azide: 0\n",
            "fr_azo: 0\n",
            "fr_barbitur: 0\n",
            "fr_benzene: 1\n",
            "fr_benzodiazepine: 0\n",
            "fr_bicyclic: 0\n",
            "fr_diazo: 0\n",
            "fr_dihydropyridine: 0\n",
            "fr_epoxide: 0\n",
            "fr_ester: 0\n",
            "fr_ether: 0\n",
            "fr_furan: 0\n",
            "fr_guanido: 0\n",
            "fr_halogen: 0\n",
            "fr_hdrzine: 0\n",
            "fr_hdrzone: 0\n",
            "fr_imidazole: 0\n",
            "fr_imide: 0\n",
            "fr_isocyan: 0\n",
            "fr_isothiocyan: 0\n",
            "fr_ketone: 0\n",
            "fr_ketone_Topliss: 0\n",
            "fr_lactam: 0\n",
            "fr_lactone: 0\n",
            "fr_methoxy: 0\n",
            "fr_morpholine: 0\n",
            "fr_nitrile: 0\n",
            "fr_nitro: 0\n",
            "fr_nitro_arom: 0\n",
            "fr_nitro_arom_nonortho: 0\n",
            "fr_nitroso: 0\n",
            "fr_oxazole: 0\n",
            "fr_oxime: 0\n",
            "fr_para_hydroxylation: 0\n",
            "fr_phenol: 1\n",
            "fr_phenol_noOrthoHbond: 1\n",
            "fr_phos_acid: 0\n",
            "fr_phos_ester: 0\n",
            "fr_piperdine: 0\n",
            "fr_piperzine: 0\n",
            "fr_priamide: 0\n",
            "fr_prisulfonamd: 0\n",
            "fr_pyridine: 0\n",
            "fr_quatN: 0\n",
            "fr_sulfide: 0\n",
            "fr_sulfonamd: 0\n",
            "fr_sulfone: 0\n",
            "fr_term_acetylene: 0\n",
            "fr_tetrazole: 0\n",
            "fr_thiazole: 0\n",
            "fr_thiocyan: 0\n",
            "fr_thiophene: 0\n",
            "fr_unbrch_alkane: 0\n",
            "fr_urea: 0\n"
          ]
        }
      ],
      "source": [
        "descriptors = calculator.CalcDescriptors(paracetamol_molecule)\n",
        "for desc_name, desc_value in zip(Descriptors.descList, descriptors):\n",
        "    print(f\"{desc_name[0]}: {desc_value}\")"
      ]
    },
    {
      "cell_type": "markdown",
      "metadata": {
        "id": "SvHtYagP31vo"
      },
      "source": [
        "## Ex5: SMART\n",
        "\n",
        "In many commonly used applications, we need to determine whether atoms in a molecule match a particular pattern. It can be used for filtering structures or identifying substructures that are associated with toxicological problem.\n",
        "\n",
        "SMART us an extension of the SMILES language that can be used to create queries.\n",
        "\n",
        "1. Find molecules in the following list named \"smiles_list\" that contain the \"CCC\" pattern (you can use the GetSubstructMatch class).\n",
        "\n",
        "\n",
        "2. Highlight the pattern \"CCC\" in these molecules.\n",
        "\n",
        "\n",
        "3. Do the same thing ex 1 but for the pattern \"C(=O)N\"."
      ]
    },
    {
      "cell_type": "code",
      "execution_count": 52,
      "metadata": {
        "id": "mXqKwAO03xQi"
      },
      "outputs": [
        {
          "name": "stdout",
          "output_type": "stream",
          "text": [
            "Molecules containing the 'CCC' pattern:\n",
            "CCCCC\n"
          ]
        }
      ],
      "source": [
        "smiles_list = [\"CCCCC\",\"CCOCC\",\"CCNCC\",\"CC(=O)NC1=CC=C(O)C=C1\", \"CC(=O)NC1=CC=C(O[13CH3])C=C1\", \"CN(C(=O)C(Cl)Cl)C1=CC=C(O)C=C1\"]\n",
        "\n",
        "pattern = Chem.MolFromSmiles(\"CCC\")\n",
        "molecules_with_pattern_1 = []\n",
        "\n",
        "for smiles in smiles_list:\n",
        "    molecule = Chem.MolFromSmiles(smiles)\n",
        "    if molecule is not None and molecule.HasSubstructMatch(pattern):\n",
        "        molecules_with_pattern_1.append(smiles)\n",
        "\n",
        "print(\"Molecules containing the 'CCC' pattern:\")\n",
        "for smiles in molecules_with_pattern_1:\n",
        "    print(smiles)"
      ]
    },
    {
      "cell_type": "code",
      "execution_count": 53,
      "metadata": {
        "id": "HAd-F-3d36WA"
      },
      "outputs": [
        {
          "data": {
            "image/jpeg": "[encoded data removed]",
            "image/png": "[encoded data removed]",
            "text/plain": [
              "<PIL.PngImagePlugin.PngImageFile image mode=RGB size=300x300>"
            ]
          },
          "metadata": {},
          "output_type": "display_data"
        }
      ],
      "source": [
        "from IPython.display import display\n",
        "\n",
        "for smile in molecules_with_pattern_1:\n",
        "    molecule = Chem.MolFromSmiles(smile)\n",
        "    substructure_atoms = molecule.GetSubstructMatch(pattern)\n",
        "    highlighted_molecule = Chem.Draw.MolToImage(molecule, size=(300, 300), wedgeBonds=True, highlightAtoms=substructure_atoms)\n",
        "\n",
        "    display(highlighted_molecule)"
      ]
    },
    {
      "cell_type": "code",
      "execution_count": 54,
      "metadata": {
        "id": "kLR_cPK739DY"
      },
      "outputs": [
        {
          "name": "stdout",
          "output_type": "stream",
          "text": [
            "Molecules containing the 'CCC' pattern:\n",
            "CC(=O)NC1=CC=C(O)C=C1\n",
            "CC(=O)NC1=CC=C(O[13CH3])C=C1\n",
            "CN(C(=O)C(Cl)Cl)C1=CC=C(O)C=C1\n"
          ]
        }
      ],
      "source": [
        "smiles_list = [\"CCCCC\",\"CCOCC\",\"CCNCC\",\"CC(=O)NC1=CC=C(O)C=C1\", \"CC(=O)NC1=CC=C(O[13CH3])C=C1\", \"CN(C(=O)C(Cl)Cl)C1=CC=C(O)C=C1\"]\n",
        "\n",
        "pattern = Chem.MolFromSmiles(\"C(=O)N\")\n",
        "molecules_with_pattern_2 = []\n",
        "\n",
        "for smiles in smiles_list:\n",
        "    molecule = Chem.MolFromSmiles(smiles)\n",
        "    if molecule is not None and molecule.HasSubstructMatch(pattern):\n",
        "        molecules_with_pattern_2.append(smiles)\n",
        "\n",
        "print(\"Molecules containing the 'CCC' pattern:\")\n",
        "for smiles in molecules_with_pattern_2:\n",
        "    print(smiles)"
      ]
    },
    {
      "cell_type": "code",
      "execution_count": 55,
      "metadata": {},
      "outputs": [
        {
          "data": {
            "image/jpeg": "[encoded data removed]",
            "image/png": "[encoded data removed]",
            "text/plain": [
              "<PIL.PngImagePlugin.PngImageFile image mode=RGB size=300x300>"
            ]
          },
          "metadata": {},
          "output_type": "display_data"
        },
        {
          "data": {
            "image/jpeg": "[encoded data removed]",
            "image/png": "[encoded data removed]",
            "text/plain": [
              "<PIL.PngImagePlugin.PngImageFile image mode=RGB size=300x300>"
            ]
          },
          "metadata": {},
          "output_type": "display_data"
        },
        {
          "data": {
            "image/jpeg": "[encoded data removed]",
            "image/png": "[encoded data removed]",
            "text/plain": [
              "<PIL.PngImagePlugin.PngImageFile image mode=RGB size=300x300>"
            ]
          },
          "metadata": {},
          "output_type": "display_data"
        }
      ],
      "source": [
        "for smile in molecules_with_pattern_2:\n",
        "    molecule = Chem.MolFromSmiles(smile)\n",
        "    substructure_atoms = molecule.GetSubstructMatch(pattern)\n",
        "    highlighted_molecule = Chem.Draw.MolToImage(molecule, size=(300, 300), wedgeBonds=True, highlightAtoms=substructure_atoms)\n",
        "\n",
        "    display(highlighted_molecule)"
      ]
    },
    {
      "cell_type": "markdown",
      "metadata": {
        "id": "UxbRPmkS4LSq"
      },
      "source": [
        "## Ex6: Machine learning with RDkit - Predict solubility\n",
        "\n",
        "In this exercise, we will use machine learning to predict solubility of molecules. For this purpose, we will borrow a dataset from rdkit that is originated from the Huuskonen dataset. We will try to predict Aqueous Solubility for molecules that is known as \"logS\".\n",
        "\n",
        "\n",
        "This exercise is divided into 3 parts: Preparing a dataset, training a model and preparing dataset for prediction and applying a predictive model.\n",
        "\n"
      ]
    },
    {
      "cell_type": "markdown",
      "metadata": {
        "id": "FpqVGPg_4QaQ"
      },
      "source": [
        "## EX6.I Preparing dataset\n",
        "\n",
        "Preparing dataset requires a few steps:\n",
        "\n",
        "\n",
        "1. Download file from \"https://raw.githubusercontent.com/rdkit/rdkit/master/Docs/Book/data/solubility.train.sdf\".\n",
        "\n",
        "\n",
        "2. With the help of rdkit.Chem.SDMolSupplier, get list of molecules contained in this file. You should call this list as **molecule_list**. The option **removeHs=False** should be chosen.\n",
        "\n",
        "\n",
        "3. Write a function named **calculate_descriptors(mol)** that allows us to calculate descriptors of a molecule. This function takes a Rdkit molecule as input and returns an array vector of descriptors.\n",
        "\n",
        "\n",
        "4. Apply the function **caluclate_descriptors** to the list of molecules **molecule_list** and store the result in a dataframe named **df**. Look at few rows of **df** to see whether the descriptors are calculated.\n",
        "\n",
        "\n",
        "5. For each molecule from this dataset, we can get the aqueous solubility (logS) via attribute **getProp('SOL')**. Create a list that contains the aqueous solubility of all molecules from the **molecule_list** list. You should call this list by **labels**. Remember to convert these values to float format.\n",
        "\n",
        "\n",
        "6. Plot the histogram of the \"labels\" list to see the distribution of the solubility of molecules. Do you have some comments about the aqueous solubility of molecules ?\n",
        "\n"
      ]
    },
    {
      "cell_type": "code",
      "execution_count": null,
      "metadata": {
        "colab": {
          "base_uri": "https://localhost:8080/"
        },
        "id": "uAuDoU7u3_k4",
        "outputId": "20a2c148-5734-4443-a665-ada416a12c62"
      },
      "outputs": [
        {
          "name": "stdout",
          "output_type": "stream",
          "text": [
            "--2023-08-20 21:02:05--  https://raw.githubusercontent.com/rdkit/rdkit/master/Docs/Book/data/solubility.train.sdf\n",
            "Resolving raw.githubusercontent.com (raw.githubusercontent.com)... 185.199.108.133, 185.199.111.133, 185.199.109.133, ...\n",
            "Connecting to raw.githubusercontent.com (raw.githubusercontent.com)|185.199.108.133|:443... connected.\n",
            "HTTP request sent, awaiting response... 200 OK\n",
            "Length: 1376487 (1.3M) [text/plain]\n",
            "Saving to: ‘solubility.train.sdf’\n",
            "\n",
            "solubility.train.sd 100%[===================>]   1.31M  --.-KB/s    in 0.06s   \n",
            "\n",
            "2023-08-20 21:02:05 (21.2 MB/s) - ‘solubility.train.sdf’ saved [1376487/1376487]\n",
            "\n"
          ]
        }
      ],
      "source": [
        "#!wget https://raw.githubusercontent.com/rdkit/rdkit/master/Docs/Book/data/solubility.train.sdf"
      ]
    },
    {
      "cell_type": "code",
      "execution_count": 56,
      "metadata": {
        "id": "IVzIr6ax4lzk"
      },
      "outputs": [],
      "source": [
        "molecule_list = Chem.SDMolSupplier(\"data/solubility.train.sdf\")"
      ]
    },
    {
      "cell_type": "code",
      "execution_count": 57,
      "metadata": {
        "id": "lnKz9r0a4xQo"
      },
      "outputs": [],
      "source": [
        "def calculate_descriptors(mol):\n",
        "    calculator = MolecularDescriptorCalculator([desc[0] for desc in Descriptors._descList])\n",
        "    descriptors = calculator.CalcDescriptors(mol)\n",
        "    return descriptors"
      ]
    },
    {
      "cell_type": "code",
      "execution_count": 85,
      "metadata": {
        "id": "v7vbkPlh46Uj"
      },
      "outputs": [
        {
          "data": {
            "text/html": [
              "<div>\n",
              "<style scoped>\n",
              "    .dataframe tbody tr th:only-of-type {\n",
              "        vertical-align: middle;\n",
              "    }\n",
              "\n",
              "    .dataframe tbody tr th {\n",
              "        vertical-align: top;\n",
              "    }\n",
              "\n",
              "    .dataframe thead th {\n",
              "        text-align: right;\n",
              "    }\n",
              "</style>\n",
              "<table border=\"1\" class=\"dataframe\">\n",
              "  <thead>\n",
              "    <tr style=\"text-align: right;\">\n",
              "      <th></th>\n",
              "      <th>0</th>\n",
              "      <th>1</th>\n",
              "      <th>2</th>\n",
              "      <th>3</th>\n",
              "      <th>4</th>\n",
              "      <th>5</th>\n",
              "      <th>6</th>\n",
              "      <th>7</th>\n",
              "      <th>8</th>\n",
              "      <th>9</th>\n",
              "      <th>...</th>\n",
              "      <th>198</th>\n",
              "      <th>199</th>\n",
              "      <th>200</th>\n",
              "      <th>201</th>\n",
              "      <th>202</th>\n",
              "      <th>203</th>\n",
              "      <th>204</th>\n",
              "      <th>205</th>\n",
              "      <th>206</th>\n",
              "      <th>207</th>\n",
              "    </tr>\n",
              "  </thead>\n",
              "  <tbody>\n",
              "    <tr>\n",
              "      <th>0</th>\n",
              "      <td>2.211806</td>\n",
              "      <td>1.343750</td>\n",
              "      <td>2.211806</td>\n",
              "      <td>1.343750</td>\n",
              "      <td>0.468786</td>\n",
              "      <td>72.151</td>\n",
              "      <td>60.055</td>\n",
              "      <td>72.09390</td>\n",
              "      <td>32</td>\n",
              "      <td>0</td>\n",
              "      <td>...</td>\n",
              "      <td>0</td>\n",
              "      <td>0</td>\n",
              "      <td>0</td>\n",
              "      <td>0</td>\n",
              "      <td>0</td>\n",
              "      <td>0</td>\n",
              "      <td>0</td>\n",
              "      <td>0</td>\n",
              "      <td>0</td>\n",
              "      <td>0</td>\n",
              "    </tr>\n",
              "    <tr>\n",
              "      <th>1</th>\n",
              "      <td>1.500000</td>\n",
              "      <td>1.500000</td>\n",
              "      <td>1.500000</td>\n",
              "      <td>1.500000</td>\n",
              "      <td>0.408362</td>\n",
              "      <td>70.135</td>\n",
              "      <td>60.055</td>\n",
              "      <td>70.07825</td>\n",
              "      <td>30</td>\n",
              "      <td>0</td>\n",
              "      <td>...</td>\n",
              "      <td>0</td>\n",
              "      <td>0</td>\n",
              "      <td>0</td>\n",
              "      <td>0</td>\n",
              "      <td>0</td>\n",
              "      <td>0</td>\n",
              "      <td>0</td>\n",
              "      <td>0</td>\n",
              "      <td>0</td>\n",
              "      <td>0</td>\n",
              "    </tr>\n",
              "    <tr>\n",
              "      <th>2</th>\n",
              "      <td>2.231806</td>\n",
              "      <td>1.355000</td>\n",
              "      <td>2.231806</td>\n",
              "      <td>1.355000</td>\n",
              "      <td>0.462954</td>\n",
              "      <td>86.178</td>\n",
              "      <td>72.066</td>\n",
              "      <td>86.10955</td>\n",
              "      <td>38</td>\n",
              "      <td>0</td>\n",
              "      <td>...</td>\n",
              "      <td>0</td>\n",
              "      <td>0</td>\n",
              "      <td>0</td>\n",
              "      <td>0</td>\n",
              "      <td>0</td>\n",
              "      <td>0</td>\n",
              "      <td>0</td>\n",
              "      <td>0</td>\n",
              "      <td>1</td>\n",
              "      <td>0</td>\n",
              "    </tr>\n",
              "    <tr>\n",
              "      <th>3</th>\n",
              "      <td>2.253472</td>\n",
              "      <td>0.898148</td>\n",
              "      <td>2.253472</td>\n",
              "      <td>0.898148</td>\n",
              "      <td>0.483890</td>\n",
              "      <td>86.178</td>\n",
              "      <td>72.066</td>\n",
              "      <td>86.10955</td>\n",
              "      <td>38</td>\n",
              "      <td>0</td>\n",
              "      <td>...</td>\n",
              "      <td>0</td>\n",
              "      <td>0</td>\n",
              "      <td>0</td>\n",
              "      <td>0</td>\n",
              "      <td>0</td>\n",
              "      <td>0</td>\n",
              "      <td>0</td>\n",
              "      <td>0</td>\n",
              "      <td>0</td>\n",
              "      <td>0</td>\n",
              "    </tr>\n",
              "    <tr>\n",
              "      <th>4</th>\n",
              "      <td>2.243056</td>\n",
              "      <td>0.541667</td>\n",
              "      <td>2.243056</td>\n",
              "      <td>0.541667</td>\n",
              "      <td>0.424482</td>\n",
              "      <td>86.178</td>\n",
              "      <td>72.066</td>\n",
              "      <td>86.10955</td>\n",
              "      <td>38</td>\n",
              "      <td>0</td>\n",
              "      <td>...</td>\n",
              "      <td>0</td>\n",
              "      <td>0</td>\n",
              "      <td>0</td>\n",
              "      <td>0</td>\n",
              "      <td>0</td>\n",
              "      <td>0</td>\n",
              "      <td>0</td>\n",
              "      <td>0</td>\n",
              "      <td>0</td>\n",
              "      <td>0</td>\n",
              "    </tr>\n",
              "  </tbody>\n",
              "</table>\n",
              "<p>5 rows × 208 columns</p>\n",
              "</div>"
            ],
            "text/plain": [
              "        0         1         2         3         4       5       6         7    \\\n",
              "0  2.211806  1.343750  2.211806  1.343750  0.468786  72.151  60.055  72.09390   \n",
              "1  1.500000  1.500000  1.500000  1.500000  0.408362  70.135  60.055  70.07825   \n",
              "2  2.231806  1.355000  2.231806  1.355000  0.462954  86.178  72.066  86.10955   \n",
              "3  2.253472  0.898148  2.253472  0.898148  0.483890  86.178  72.066  86.10955   \n",
              "4  2.243056  0.541667  2.243056  0.541667  0.424482  86.178  72.066  86.10955   \n",
              "\n",
              "   8    9    ...  198  199  200  201  202  203  204  205  206  207  \n",
              "0   32    0  ...    0    0    0    0    0    0    0    0    0    0  \n",
              "1   30    0  ...    0    0    0    0    0    0    0    0    0    0  \n",
              "2   38    0  ...    0    0    0    0    0    0    0    0    1    0  \n",
              "3   38    0  ...    0    0    0    0    0    0    0    0    0    0  \n",
              "4   38    0  ...    0    0    0    0    0    0    0    0    0    0  \n",
              "\n",
              "[5 rows x 208 columns]"
            ]
          },
          "execution_count": 85,
          "metadata": {},
          "output_type": "execute_result"
        }
      ],
      "source": [
        "import pandas as pd\n",
        "df = pd.DataFrame([calculate_descriptors(mol) for mol in molecule_list])\n",
        "\n",
        "df.head()"
      ]
    },
    {
      "cell_type": "code",
      "execution_count": 64,
      "metadata": {
        "id": "a9s7O4ki4_dZ"
      },
      "outputs": [
        {
          "data": {
            "text/plain": [
              "array([-3.18, -2.64, -3.84, ..., -1.42, -5.51, -3.21])"
            ]
          },
          "execution_count": 64,
          "metadata": {},
          "output_type": "execute_result"
        }
      ],
      "source": [
        "labels = np.array([mol.GetProp(\"SOL\") for mol in molecule_list]).astype(float)"
      ]
    },
    {
      "cell_type": "code",
      "execution_count": 67,
      "metadata": {
        "id": "38SxXEj75DG6"
      },
      "outputs": [
        {
          "data": {
            "image/png": "[encoded data removed]",
            "text/plain": [
              "<Figure size 640x480 with 1 Axes>"
            ]
          },
          "metadata": {},
          "output_type": "display_data"
        }
      ],
      "source": [
        "import matplotlib.pyplot as plt\n",
        "plt.hist(labels, bins=50)\n",
        "plt.xlabel(\"Solubility\")\n",
        "plt.ylabel(\"Number of molecules\")\n",
        "plt.show()"
      ]
    },
    {
      "cell_type": "markdown",
      "metadata": {
        "id": "KRtVHEjH5M9m"
      },
      "source": [
        "## Ex6.II Feature Engineering and Training a model of regression.\n",
        "\n",
        "Now, we have the **df** dataframe that contains the descriptors for molecules and the **labels** list that contains the solvant property of molecules.\n",
        "\n",
        "1. Check the dataframe **df** to see whether it contains NaN values. How many row contained NaN values are there in the dataframe **df** ? Remove these rows from  **df** and **labels**.\n",
        "\n",
        "\n",
        "2. Apply the MinMaxScaler to the dataframe **df** to normalize the data.\n",
        "\n",
        "\n",
        "3. Construct and train a regression model.\n",
        "\n",
        "\n",
        "4. Calculate the square root error for the dataset"
      ]
    },
    {
      "cell_type": "code",
      "execution_count": 86,
      "metadata": {
        "id": "gWvfR-8x5H84"
      },
      "outputs": [],
      "source": [
        "#get nan rows of df and delete them in df and labels\n",
        "nan_rows = df[df.isnull().any(axis=1)]\n",
        "\n",
        "df = df.dropna()\n",
        "\n",
        "labels = np.array([molecule_list[i].GetProp(\"SOL\") for i in range(len(molecule_list)) if i not in nan_rows.index]).astype(float)\n"
      ]
    },
    {
      "cell_type": "code",
      "execution_count": 87,
      "metadata": {
        "id": "GIogC40t5Tu8"
      },
      "outputs": [],
      "source": [
        "from sklearn.preprocessing import MinMaxScaler\n",
        "\n",
        "scaler = MinMaxScaler()\n",
        "df_scaled = scaler.fit_transform(df)"
      ]
    },
    {
      "cell_type": "code",
      "execution_count": 89,
      "metadata": {
        "id": "dtonURI45dvL"
      },
      "outputs": [],
      "source": [
        "from sklearn.linear_model import LinearRegression\n",
        "\n",
        "reg = LinearRegression()\n",
        "reg = reg.fit(df_scaled, labels)"
      ]
    },
    {
      "cell_type": "code",
      "execution_count": 90,
      "metadata": {
        "id": "6IN4BUGK5mjK"
      },
      "outputs": [
        {
          "name": "stdout",
          "output_type": "stream",
          "text": [
            "RMSE: 0.5299230262374317\n"
          ]
        }
      ],
      "source": [
        "from sklearn.metrics import mean_squared_error\n",
        "\n",
        "y_pred = reg.predict(df_scaled)\n",
        "rmse = mean_squared_error(labels, y_pred, squared=False)\n",
        "\n",
        "print(f\"RMSE: {rmse}\")"
      ]
    },
    {
      "cell_type": "markdown",
      "metadata": {
        "id": "kESW-Pem5zPX"
      },
      "source": [
        "## Ex6.III Prepare data for test  and test model\n",
        "\n",
        "\n",
        "1. Download file from \"https://github.com/rdkit/rdkit/blob/master/Docs/Book/data/solubility.test.sdf\".\n",
        "\n",
        "2. Read molecules from this file and store them in a list named **list_molecule_test**.\n",
        "\n",
        "\n",
        "3. Take a molecule from the **list_molecule_test** and then calculate its descriptions thank to the **calculate_descriptors(mol)** function that you've coded above.\n",
        "\n",
        "\n",
        "4. Apply **minmaxscaler** to these descriptors. Note that **minmaxscaler**  is one that you've created at Ex6.II.\n",
        "\n",
        "\n",
        "5. Use the model that you've trained to predict the aqueous solubility (logS) of the molecule. Compare to the real logS value of the molecule.\n",
        "\n",
        "6. (Optional) Calculate the mean square root error of the model for this dataset.\n",
        "\n",
        "\n",
        "\n",
        "Note: If there exists problem of reading the file solubility.test.sdf as\n",
        "\"RDKit ERROR: [09:28:36] ERROR: moving to the beginning of the next molecule\n",
        "RDKit ERROR: [09:32:48] ERROR: Counts line too short: '' on line4\"\n",
        "so, go to the url, click \"raw\" and save this file by hand. The error will be gone away\n"
      ]
    },
    {
      "cell_type": "code",
      "execution_count": null,
      "metadata": {
        "colab": {
          "base_uri": "https://localhost:8080/"
        },
        "id": "SMo-oKP-Rhv-",
        "outputId": "57380b07-7444-4b56-b614-81dec92bcf35"
      },
      "outputs": [
        {
          "name": "stdout",
          "output_type": "stream",
          "text": [
            "--2023-08-20 21:06:07--  https://github.com/rdkit/rdkit/blob/master/Docs/Book/data/solubility.test.sdf\n",
            "Resolving github.com (github.com)... 140.82.114.4\n",
            "Connecting to github.com (github.com)|140.82.114.4|:443... connected.\n",
            "HTTP request sent, awaiting response... 200 OK\n",
            "Length: 327929 (320K) [text/plain]\n",
            "Saving to: ‘solubility.test.sdf’\n",
            "\n",
            "solubility.test.sdf 100%[===================>] 320.24K  --.-KB/s    in 0.1s    \n",
            "\n",
            "2023-08-20 21:06:07 (3.00 MB/s) - ‘solubility.test.sdf’ saved [327929/327929]\n",
            "\n"
          ]
        }
      ],
      "source": [
        "# 1. Download the file\n",
        "#!wget https://github.com/rdkit/rdkit/blob/master/Docs/Book/data/solubility.test.sdf"
      ]
    },
    {
      "cell_type": "code",
      "execution_count": 97,
      "metadata": {
        "id": "NPY8dEJs5v1x"
      },
      "outputs": [],
      "source": [
        "list_molecules_test = Chem.SDMolSupplier(\"data/solubility.test.sdf\")"
      ]
    },
    {
      "cell_type": "code",
      "execution_count": 98,
      "metadata": {
        "id": "nzS4GfEAxzUQ"
      },
      "outputs": [],
      "source": [
        "index, descriptor = 4, calculate_descriptors(list_molecules_test[4])"
      ]
    },
    {
      "cell_type": "code",
      "execution_count": 101,
      "metadata": {
        "id": "Ni3z7j7G561j"
      },
      "outputs": [],
      "source": [
        "descriptor_scaled = scaler.transform([descriptor])[0]"
      ]
    },
    {
      "cell_type": "code",
      "execution_count": 102,
      "metadata": {
        "id": "Ed3NApbv5_Yp"
      },
      "outputs": [
        {
          "name": "stdout",
          "output_type": "stream",
          "text": [
            "Predicted solubility: -1.552337646484375 vs real solubility: -2.09\n"
          ]
        }
      ],
      "source": [
        "predicted_solubility = reg.predict([descriptor_scaled])[0]\n",
        "print(f\"Predicted solubility: {predicted_solubility} vs real solubility: {list_molecules_test[index].GetProp('SOL')}\")"
      ]
    }
  ],
  "metadata": {
    "colab": {
      "provenance": []
    },
    "kernelspec": {
      "display_name": "Python 3",
      "name": "python3"
    },
    "language_info": {
      "codemirror_mode": {
        "name": "ipython",
        "version": 3
      },
      "file_extension": ".py",
      "mimetype": "text/x-python",
      "name": "python",
      "nbconvert_exporter": "python",
      "pygments_lexer": "ipython3",
      "version": "3.11.5"
    }
  },
  "nbformat": 4,
  "nbformat_minor": 0
}
