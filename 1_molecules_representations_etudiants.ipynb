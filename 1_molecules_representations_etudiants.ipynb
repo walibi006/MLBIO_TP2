{
  "nbformat": 4,
  "nbformat_minor": 0,
  "metadata": {
    "colab": {
      "provenance": []
    },
    "kernelspec": {
      "name": "python3",
      "display_name": "Python 3"
    },
    "language_info": {
      "name": "python"
    }
  },
  "cells": [
    {
      "cell_type": "code",
      "metadata": {
        "id": "9qJCFDsxp3wJ"
      },
      "source": [
        "# Install rdkit\n",
        "!pip install rdkit-pypi"
      ],
      "execution_count": null,
      "outputs": []
    },
    {
      "cell_type": "markdown",
      "metadata": {
        "id": "TYs-WClCqSsy"
      },
      "source": [
        "## Ex 1. Read molecules from SMILES\n",
        "\n",
        "SMILES (Simplified Molecular-Input Line-Entry System) is a popular method for specifying molecules with text string. The RDkit library provides utilities to read molecules from SMILES.\n",
        "\n",
        "\n",
        "Paracetamol (Acetaminophen) is a commonly used medicine that can help treat pain and reduce a high temperature. It's given by the chemical formula $ C_8H_9N O_2$ and its SMILES is \"CC(=O)NC1=CC=C(O)C=C1\".\n",
        "\n",
        "\n",
        "1. Create the paracetamol molecule from its SMILES using the rdkit.Chem.MolFromSmiles class.\n",
        "\n",
        "\n",
        "2. Visualize its structure (it's sufficient to print the paracetamol molecule or to use rdkit.Chem.Draw.MolToImage())\n",
        "\n",
        "\n",
        "3. Print out the number of atoms. Did you get 11 ? It should be 20 atoms ? Why ?\n",
        "\n",
        "\n",
        "\n",
        "4. Print out the list of atoms.\n",
        "\n",
        "\n",
        "5. Find the number of bonds.\n",
        "\n"
      ]
    },
    {
      "cell_type": "code",
      "source": [],
      "metadata": {
        "id": "1_1JGHtMEulb"
      },
      "execution_count": null,
      "outputs": []
    },
    {
      "cell_type": "code",
      "source": [],
      "metadata": {
        "id": "jjX2FsZJEvj7"
      },
      "execution_count": null,
      "outputs": []
    },
    {
      "cell_type": "code",
      "metadata": {
        "id": "ccbbFmLOqDJV"
      },
      "source": [],
      "execution_count": null,
      "outputs": []
    },
    {
      "cell_type": "code",
      "metadata": {
        "id": "8snxocdqsKNJ"
      },
      "source": [],
      "execution_count": null,
      "outputs": []
    },
    {
      "cell_type": "code",
      "metadata": {
        "id": "3yiWFSgdsk0j"
      },
      "source": [
        "\n"
      ],
      "execution_count": null,
      "outputs": []
    },
    {
      "cell_type": "code",
      "metadata": {
        "id": "4rN88u9dtueQ"
      },
      "source": [],
      "execution_count": null,
      "outputs": []
    },
    {
      "cell_type": "code",
      "metadata": {
        "id": "4BJGnXswtxFV"
      },
      "source": [],
      "execution_count": null,
      "outputs": []
    },
    {
      "cell_type": "markdown",
      "metadata": {
        "id": "5ch4vabFuReu"
      },
      "source": [
        "## Ex 2 Read data from chemical file format\n",
        "\n",
        "Apart SMILES, .SDF/ .Mol are also the common formats to save molecules. RDKit provides also functionalities to read these files.\n",
        "\n",
        "\n",
        "Morphine is an opioid agonist used for the relief of moderate to severe acute and chronic pain. The chemical information of this drug can be found at\n",
        "\"https://go.drugbank.com/structures/small_molecule_drugs/DB00295.sdf\".\n",
        "\n",
        "\n",
        "1. Download this file and save it in a folder.\n",
        "\n",
        "\n",
        "2. Read the morphine molecule from the file that you've downloaded using \"rdkit.Chem.SDMolSupplier\"\n",
        "\n",
        "\n",
        "3. With the help of rdkit.Chem.AllChem.GetMorganFingerprintAsBitVect, compute its fingerprint as a bit vector."
      ]
    },
    {
      "cell_type": "code",
      "metadata": {
        "id": "9VLF599Yv5V1"
      },
      "source": [],
      "execution_count": null,
      "outputs": []
    },
    {
      "cell_type": "code",
      "metadata": {
        "id": "MfzZWrz82ox4"
      },
      "source": [],
      "execution_count": null,
      "outputs": []
    },
    {
      "cell_type": "code",
      "metadata": {
        "id": "Tev1bWf7uEod"
      },
      "source": [],
      "execution_count": null,
      "outputs": []
    },
    {
      "cell_type": "code",
      "metadata": {
        "id": "9Cb8JDUe0pOw"
      },
      "source": [],
      "execution_count": null,
      "outputs": []
    },
    {
      "cell_type": "markdown",
      "metadata": {
        "id": "gljbmF6p3RX8"
      },
      "source": [
        "## EX3. Fingerprints\n",
        "\n",
        "\n",
        "A chemical structure can be characterized by a set of numerical values known as molecular fingerprints. They may be 2D Fragment-based fingerprints presented by bit arrays of 0s and 1s wherein each bit position indicates the presence or absence of structural fragments.\n",
        "\n",
        "\n",
        "The RDKit has a variety of built-in functionality for generating molecular fingerprints and then using them to calculate molecular similarity. In this exercise, we will generate the fingerprints for parcetamol and aspirin that are two popular drugs used for pains.\n",
        "\n",
        "\n",
        "\n",
        "1. Compute the fingerprint of the paracetamol as bit vector by using the rdkit.AllChem.GetMorganFingerprintAsBitVectCompute Class. Convert it to a numpy vector. Known that Paracetamol's SMILES is \"\"CC(=O)OC1=CC=CC=C1C(O)=O\". Choose the number of bits nBits= 1024. Find the elements that are nonzero of the vector.\n",
        "\n",
        "2. Do the same thing for the aspirin. Aspirin's SMILES is \"CC(=O)NC1=CC=C(O)C=C1\".\n",
        "\n",
        "\n",
        "\n",
        "3. Using rdkit.DataStructs.DiceSimilarity(), compute the DiceSimilarity between the fingerprints of the paracetamol and the aspirin."
      ]
    },
    {
      "cell_type": "code",
      "metadata": {
        "id": "8PALjOz5232Z"
      },
      "source": [],
      "execution_count": null,
      "outputs": []
    },
    {
      "cell_type": "code",
      "metadata": {
        "id": "5PdK21vk3akj"
      },
      "source": [],
      "execution_count": null,
      "outputs": []
    },
    {
      "cell_type": "code",
      "metadata": {
        "id": "FWUW82xM3de5"
      },
      "source": [],
      "execution_count": null,
      "outputs": []
    },
    {
      "cell_type": "code",
      "metadata": {
        "id": "Hip2WFdc3gEP"
      },
      "source": [],
      "execution_count": null,
      "outputs": []
    },
    {
      "cell_type": "code",
      "metadata": {
        "id": "fxnxfRjq3jDa"
      },
      "source": [],
      "execution_count": null,
      "outputs": []
    },
    {
      "cell_type": "markdown",
      "metadata": {
        "id": "GZXsjZGw3ofC"
      },
      "source": [
        "## EX 4: Descriptors\n",
        "\n",
        "Molecules are also described by a set of physiochemical descriptors. They should be the log partition coefficient, the polar surface area ... that describe the molecule's structure.\n",
        "\n",
        "\n",
        "RDKit provides utilities that allow us to compute descriptor of molecules.\n",
        "Using the rdkit.ML.Descriptors.MoleculeDescriptors.MolecularDescriptorCalculator class, compute the descriptor for paracetamol molecule from SMILES string. Note that SMILES string for paracetamol is \"CC(=O)NC1=CC=C(O)C=C1\"\n",
        "\n"
      ]
    },
    {
      "cell_type": "code",
      "metadata": {
        "id": "vQcACF5K3l1y"
      },
      "source": [],
      "execution_count": null,
      "outputs": []
    },
    {
      "cell_type": "code",
      "metadata": {
        "id": "uKfd9F_93urZ"
      },
      "source": [],
      "execution_count": null,
      "outputs": []
    },
    {
      "cell_type": "markdown",
      "metadata": {
        "id": "SvHtYagP31vo"
      },
      "source": [
        "## Ex5: SMART\n",
        "\n",
        "In many commonly used applications, we need to determine whether atoms in a molecule match a particular pattern. It can be used for filtering structures or identifying substructures that are associated with toxicological problem.\n",
        "\n",
        "SMART us an extension of the SMILES language that can be used to create queries.\n",
        "\n",
        "1. Find molecules in the following list named \"smiles_list\" that contain the \"CCC\" pattern (you can use the GetSubstructMatch class).\n",
        "\n",
        "\n",
        "2. Highlight the pattern \"CCC\" in these molecules.\n",
        "\n",
        "\n",
        "3. Do the same thing ex 1 but for the pattern \"C(=O)N\"."
      ]
    },
    {
      "cell_type": "code",
      "metadata": {
        "id": "mXqKwAO03xQi"
      },
      "source": [],
      "execution_count": null,
      "outputs": []
    },
    {
      "cell_type": "code",
      "metadata": {
        "id": "HAd-F-3d36WA"
      },
      "source": [],
      "execution_count": null,
      "outputs": []
    },
    {
      "cell_type": "code",
      "metadata": {
        "id": "kLR_cPK739DY"
      },
      "source": [],
      "execution_count": null,
      "outputs": []
    },
    {
      "cell_type": "markdown",
      "metadata": {
        "id": "UxbRPmkS4LSq"
      },
      "source": [
        "## Ex6: Machine learning with RDkit - Predict solubility\n",
        "\n",
        "In this exercise, we will use machine learning to predict solubility of molecules. For this purpose, we will borrow a dataset from rdkit that is originated from the Huuskonen dataset. We will try to predict Aqueous Solubility for molecules that is known as \"logS\".\n",
        "\n",
        "\n",
        "This exercise is divided into 3 parts: Preparing a dataset, training a model and preparing dataset for prediction and applying a predictive model.\n",
        "\n"
      ]
    },
    {
      "cell_type": "markdown",
      "metadata": {
        "id": "FpqVGPg_4QaQ"
      },
      "source": [
        "## EX6.I Preparing dataset\n",
        "\n",
        "Preparing dataset requires a few steps:\n",
        "\n",
        "\n",
        "1. Download file from \"https://raw.githubusercontent.com/rdkit/rdkit/master/Docs/Book/data/solubility.train.sdf\".\n",
        "\n",
        "\n",
        "2. With the help of rdkit.Chem.SDMolSupplier, get list of molecules contained in this file. You should call this list as **molecule_list**. The option **removeHs=False** should be chosen.\n",
        "\n",
        "\n",
        "3. Write a function named **calculate_descriptors(mol)** that allows us to calculate descriptors of a molecule. This function takes a Rdkit molecule as input and returns an array vector of descriptors.\n",
        "\n",
        "\n",
        "4. Apply the function **caluclate_descriptors** to the list of molecules **molecule_list** and store the result in a dataframe named **df**. Look at few rows of **df** to see whether the descriptors are calculated.\n",
        "\n",
        "\n",
        "5. For each molecule from this dataset, we can get the aqueous solubility (logS) via attribute **getProp('SOL')**. Create a list that contains the aqueous solubility of all molecules from the **molecule_list** list. You should call this list by **labels**. Remember to convert these values to float format.\n",
        "\n",
        "\n",
        "6. Plot the histogram of the \"labels\" list to see the distribution of the solubility of molecules. Do you have some comments about the aqueous solubility of molecules ?\n",
        "\n"
      ]
    },
    {
      "cell_type": "code",
      "metadata": {
        "colab": {
          "base_uri": "https://localhost:8080/"
        },
        "id": "uAuDoU7u3_k4",
        "outputId": "20a2c148-5734-4443-a665-ada416a12c62"
      },
      "source": [
        "!wget https://raw.githubusercontent.com/rdkit/rdkit/master/Docs/Book/data/solubility.train.sdf"
      ],
      "execution_count": null,
      "outputs": [
        {
          "output_type": "stream",
          "name": "stdout",
          "text": [
            "--2023-08-20 21:02:05--  https://raw.githubusercontent.com/rdkit/rdkit/master/Docs/Book/data/solubility.train.sdf\n",
            "Resolving raw.githubusercontent.com (raw.githubusercontent.com)... 185.199.108.133, 185.199.111.133, 185.199.109.133, ...\n",
            "Connecting to raw.githubusercontent.com (raw.githubusercontent.com)|185.199.108.133|:443... connected.\n",
            "HTTP request sent, awaiting response... 200 OK\n",
            "Length: 1376487 (1.3M) [text/plain]\n",
            "Saving to: ‘solubility.train.sdf’\n",
            "\n",
            "solubility.train.sd 100%[===================>]   1.31M  --.-KB/s    in 0.06s   \n",
            "\n",
            "2023-08-20 21:02:05 (21.2 MB/s) - ‘solubility.train.sdf’ saved [1376487/1376487]\n",
            "\n"
          ]
        }
      ]
    },
    {
      "cell_type": "code",
      "metadata": {
        "id": "IVzIr6ax4lzk"
      },
      "source": [],
      "execution_count": null,
      "outputs": []
    },
    {
      "cell_type": "code",
      "metadata": {
        "id": "lnKz9r0a4xQo"
      },
      "source": [],
      "execution_count": null,
      "outputs": []
    },
    {
      "cell_type": "code",
      "metadata": {
        "id": "v7vbkPlh46Uj"
      },
      "source": [],
      "execution_count": null,
      "outputs": []
    },
    {
      "cell_type": "code",
      "metadata": {
        "id": "a9s7O4ki4_dZ"
      },
      "source": [],
      "execution_count": null,
      "outputs": []
    },
    {
      "cell_type": "code",
      "metadata": {
        "id": "38SxXEj75DG6"
      },
      "source": [],
      "execution_count": null,
      "outputs": []
    },
    {
      "cell_type": "markdown",
      "metadata": {
        "id": "KRtVHEjH5M9m"
      },
      "source": [
        "## Ex6.II Feature Engineering and Training a model of regression.\n",
        "\n",
        "Now, we have the **df** dataframe that contains the descriptors for molecules and the **labels** list that contains the solvant property of molecules.\n",
        "\n",
        "1. Check the dataframe **df** to see whether it contains NaN values. How many row contained NaN values are there in the dataframe **df** ? Remove these rows from  **df** and **labels**.\n",
        "\n",
        "\n",
        "2. Apply the MinMaxScaler to the dataframe **df** to normalize the data.\n",
        "\n",
        "\n",
        "3. Construct and train a regression model.\n",
        "\n",
        "\n",
        "4. Calculate the square root error for the dataset"
      ]
    },
    {
      "cell_type": "code",
      "metadata": {
        "id": "gWvfR-8x5H84"
      },
      "source": [],
      "execution_count": null,
      "outputs": []
    },
    {
      "cell_type": "code",
      "metadata": {
        "id": "GIogC40t5Tu8"
      },
      "source": [],
      "execution_count": null,
      "outputs": []
    },
    {
      "cell_type": "code",
      "metadata": {
        "id": "rdzWDho25bAs"
      },
      "source": [],
      "execution_count": null,
      "outputs": []
    },
    {
      "cell_type": "code",
      "metadata": {
        "id": "dtonURI45dvL"
      },
      "source": [],
      "execution_count": null,
      "outputs": []
    },
    {
      "cell_type": "code",
      "metadata": {
        "id": "6IN4BUGK5mjK"
      },
      "source": [],
      "execution_count": null,
      "outputs": []
    },
    {
      "cell_type": "code",
      "metadata": {
        "id": "WJR3jwY45nZ5"
      },
      "source": [],
      "execution_count": null,
      "outputs": []
    },
    {
      "cell_type": "code",
      "metadata": {
        "id": "y8WyXMy95pzF"
      },
      "source": [],
      "execution_count": null,
      "outputs": []
    },
    {
      "cell_type": "markdown",
      "metadata": {
        "id": "kESW-Pem5zPX"
      },
      "source": [
        "## Ex6.III Prepare data for test  and test model\n",
        "\n",
        "\n",
        "1. Download file from \"https://github.com/rdkit/rdkit/blob/master/Docs/Book/data/solubility.test.sdf\".\n",
        "\n",
        "2. Read molecules from this file and store them in a list named **list_molecule_test**.\n",
        "\n",
        "\n",
        "3. Take a molecule from the **list_molecule_test** and then calculate its descriptions thank to the **calculate_descriptors(mol)** function that you've coded above.\n",
        "\n",
        "\n",
        "4. Apply **minmaxscaler** to these descriptors. Note that **minmaxscaler**  is one that you've created at Ex6.II.\n",
        "\n",
        "\n",
        "5. Use the model that you've trained to predict the aqueous solubility (logS) of the molecule. Compare to the real logS value of the molecule.\n",
        "\n",
        "6. (Optional) Calculate the mean square root error of the model for this dataset.\n",
        "\n",
        "\n",
        "\n",
        "Note: If there exists problem of reading the file solubility.test.sdf as\n",
        "\"RDKit ERROR: [09:28:36] ERROR: moving to the beginning of the next molecule\n",
        "RDKit ERROR: [09:32:48] ERROR: Counts line too short: '' on line4\"\n",
        "so, go to the url, click \"raw\" and save this file by hand. The error will be gone away\n"
      ]
    },
    {
      "cell_type": "code",
      "metadata": {
        "id": "SMo-oKP-Rhv-",
        "colab": {
          "base_uri": "https://localhost:8080/"
        },
        "outputId": "57380b07-7444-4b56-b614-81dec92bcf35"
      },
      "source": [
        "# 1. Download the file\n",
        "!wget https://github.com/rdkit/rdkit/blob/master/Docs/Book/data/solubility.test.sdf"
      ],
      "execution_count": null,
      "outputs": [
        {
          "output_type": "stream",
          "name": "stdout",
          "text": [
            "--2023-08-20 21:06:07--  https://github.com/rdkit/rdkit/blob/master/Docs/Book/data/solubility.test.sdf\n",
            "Resolving github.com (github.com)... 140.82.114.4\n",
            "Connecting to github.com (github.com)|140.82.114.4|:443... connected.\n",
            "HTTP request sent, awaiting response... 200 OK\n",
            "Length: 327929 (320K) [text/plain]\n",
            "Saving to: ‘solubility.test.sdf’\n",
            "\n",
            "solubility.test.sdf 100%[===================>] 320.24K  --.-KB/s    in 0.1s    \n",
            "\n",
            "2023-08-20 21:06:07 (3.00 MB/s) - ‘solubility.test.sdf’ saved [327929/327929]\n",
            "\n"
          ]
        }
      ]
    },
    {
      "cell_type": "code",
      "metadata": {
        "id": "NPY8dEJs5v1x"
      },
      "source": [],
      "execution_count": null,
      "outputs": []
    },
    {
      "cell_type": "code",
      "source": [],
      "metadata": {
        "id": "nzS4GfEAxzUQ"
      },
      "execution_count": null,
      "outputs": []
    },
    {
      "cell_type": "code",
      "metadata": {
        "id": "Ni3z7j7G561j"
      },
      "source": [],
      "execution_count": null,
      "outputs": []
    },
    {
      "cell_type": "code",
      "metadata": {
        "id": "Ed3NApbv5_Yp"
      },
      "source": [],
      "execution_count": null,
      "outputs": []
    },
    {
      "cell_type": "code",
      "metadata": {
        "id": "vauBuC-R66GF"
      },
      "source": [],
      "execution_count": null,
      "outputs": []
    }
  ]
}