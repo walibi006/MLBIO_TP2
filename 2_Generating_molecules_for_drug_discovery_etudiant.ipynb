{
  "cells": [
    {
      "cell_type": "markdown",
      "metadata": {
        "id": "7YhDx0Tsyyhd"
      },
      "source": [
        "# RNN Based molucule generation\n",
        "\n",
        "Laurent Cetinsoy\n",
        "\n",
        "In this hands-on we want to generate molecule formulas for denovo-drug discovery.\n",
        "\n",
        "For that we need to use Generative models. Generative models are models which goes beyond classification or simple regression : they are able to generate data that look like previously seens dataset.\n",
        "\n",
        "There exists a lot of models :\n",
        "\n",
        "- Bayesian models like graphical models\n",
        "- Recurrent models (for sequence generation like texte)\n",
        "- Variational auto encoders\n",
        "- Generative adversarial models\n",
        "- Flow and diffusion models\n",
        "\n",
        "\n",
        "In the hands-on we will start by  trainning a character based RNN to generate smile molecules\n",
        "\n",
        "\n",
        "We want to feed smile representations of molecules to an RNN.\n",
        "The basic idea is we will train it to predict the next smile token of a molecule given the previous one.\n",
        "\n",
        "For instance for the following molecule \"CC(=O)NC1=CC=C(O)C=C1\" will may give to the model\n",
        "\n",
        "X = \"CC(=O)N\"\n",
        "y = C\n",
        "\n",
        "and ask the RNN to learn to predict y given X\n",
        "\n",
        "Like a standard language model !\n"
      ]
    },
    {
      "cell_type": "markdown",
      "metadata": {
        "id": "c-Que9IFyyhk"
      },
      "source": [
        "## RNN Language model\n",
        "\n",
        "\n",
        "A language model is a model which predict the next token of a sequence given the previous ones :\n",
        "\n",
        "$ P(X_t | X_{t-1}, X_{t-2}, ..., X_{t-p})  $\n",
        "\n",
        "\n",
        "This model can be learned with a Recurrent neural network\n",
        "\n",
        "$ y = P(X_t | X_{t-1}, X_{t-2}, ..., X_{t-p}) = RNN_{\\theta} (X_{t-1}, X_{t-2}, ..., X_{t-p})  $\n",
        "\n",
        "\n",
        "In order to train such model you need a corpus of data.\n",
        "\n",
        "\n",
        "\n",
        "There are two main ways to do that : Word level model or character level model\n",
        "\n",
        "For character level models, an interesting resource is : http://karpathy.github.io/2015/05/21/rnn-effectiveness/\n",
        "\n"
      ]
    },
    {
      "cell_type": "markdown",
      "metadata": {
        "id": "ZaSGBHWXyyhm"
      },
      "source": [
        "Explain briefly what is the difference between word based language model and character based language model"
      ]
    },
    {
      "cell_type": "markdown",
      "metadata": {
        "id": "7c3FB6X4yyhn"
      },
      "source": [
        "The primary difference lies in the level of granularity at which these models operate: word-based models focus on words or tokens, while character-based models work with individual characters. "
      ]
    },
    {
      "cell_type": "markdown",
      "metadata": {
        "id": "WU_SbWlJyyhn"
      },
      "source": [
        "## Loading the data"
      ]
    },
    {
      "cell_type": "markdown",
      "metadata": {
        "id": "9CAnQcj3yyho"
      },
      "source": [
        "Dowload the following dataset : https://github.com/joeymach/Leveraging-VAE-to-generate-molecules"
      ]
    },
    {
      "cell_type": "markdown",
      "metadata": {
        "id": "nyvW9PMyyyhr"
      },
      "source": [
        "Import pandas and load the first 1000 lines"
      ]
    },
    {
      "cell_type": "code",
      "execution_count": 1,
      "metadata": {
        "id": "p2FuRl15yyhr"
      },
      "outputs": [],
      "source": [
        "import pandas as pd\n",
        "\n",
        "df = pd.read_csv('data/250k_smiles.csv', nrows=1000)"
      ]
    },
    {
      "cell_type": "markdown",
      "metadata": {
        "id": "gO3XWPQMyyhs"
      },
      "source": [
        "Display the first rows of the dataframe"
      ]
    },
    {
      "cell_type": "code",
      "execution_count": 2,
      "metadata": {
        "id": "zjQ6_NK3yyht"
      },
      "outputs": [
        {
          "data": {
            "text/html": [
              "<div>\n",
              "<style scoped>\n",
              "    .dataframe tbody tr th:only-of-type {\n",
              "        vertical-align: middle;\n",
              "    }\n",
              "\n",
              "    .dataframe tbody tr th {\n",
              "        vertical-align: top;\n",
              "    }\n",
              "\n",
              "    .dataframe thead th {\n",
              "        text-align: right;\n",
              "    }\n",
              "</style>\n",
              "<table border=\"1\" class=\"dataframe\">\n",
              "  <thead>\n",
              "    <tr style=\"text-align: right;\">\n",
              "      <th></th>\n",
              "      <th>smiles</th>\n",
              "      <th>logP</th>\n",
              "      <th>qed</th>\n",
              "      <th>SAS</th>\n",
              "    </tr>\n",
              "  </thead>\n",
              "  <tbody>\n",
              "    <tr>\n",
              "      <th>0</th>\n",
              "      <td>CC(C)(C)c1ccc2occ(CC(=O)Nc3ccccc3F)c2c1\\n</td>\n",
              "      <td>5.05060</td>\n",
              "      <td>0.702012</td>\n",
              "      <td>2.084095</td>\n",
              "    </tr>\n",
              "    <tr>\n",
              "      <th>1</th>\n",
              "      <td>C[C@@H]1CC(Nc2cncc(-c3nncn3C)c2)C[C@@H](C)C1\\n</td>\n",
              "      <td>3.11370</td>\n",
              "      <td>0.928975</td>\n",
              "      <td>3.432004</td>\n",
              "    </tr>\n",
              "    <tr>\n",
              "      <th>2</th>\n",
              "      <td>N#Cc1ccc(-c2ccc(O[C@@H](C(=O)N3CCCC3)c3ccccc3)...</td>\n",
              "      <td>4.96778</td>\n",
              "      <td>0.599682</td>\n",
              "      <td>2.470633</td>\n",
              "    </tr>\n",
              "    <tr>\n",
              "      <th>3</th>\n",
              "      <td>CCOC(=O)[C@@H]1CCCN(C(=O)c2nc(-c3ccc(C)cc3)n3c...</td>\n",
              "      <td>4.00022</td>\n",
              "      <td>0.690944</td>\n",
              "      <td>2.822753</td>\n",
              "    </tr>\n",
              "    <tr>\n",
              "      <th>4</th>\n",
              "      <td>N#CC1=C(SCC(=O)Nc2cccc(Cl)c2)N=C([O-])[C@H](C#...</td>\n",
              "      <td>3.60956</td>\n",
              "      <td>0.789027</td>\n",
              "      <td>4.035182</td>\n",
              "    </tr>\n",
              "  </tbody>\n",
              "</table>\n",
              "</div>"
            ],
            "text/plain": [
              "                                              smiles     logP       qed  \\\n",
              "0          CC(C)(C)c1ccc2occ(CC(=O)Nc3ccccc3F)c2c1\\n  5.05060  0.702012   \n",
              "1     C[C@@H]1CC(Nc2cncc(-c3nncn3C)c2)C[C@@H](C)C1\\n  3.11370  0.928975   \n",
              "2  N#Cc1ccc(-c2ccc(O[C@@H](C(=O)N3CCCC3)c3ccccc3)...  4.96778  0.599682   \n",
              "3  CCOC(=O)[C@@H]1CCCN(C(=O)c2nc(-c3ccc(C)cc3)n3c...  4.00022  0.690944   \n",
              "4  N#CC1=C(SCC(=O)Nc2cccc(Cl)c2)N=C([O-])[C@H](C#...  3.60956  0.789027   \n",
              "\n",
              "        SAS  \n",
              "0  2.084095  \n",
              "1  3.432004  \n",
              "2  2.470633  \n",
              "3  2.822753  \n",
              "4  4.035182  "
            ]
          },
          "execution_count": 2,
          "metadata": {},
          "output_type": "execute_result"
        }
      ],
      "source": [
        "df.head()"
      ]
    },
    {
      "cell_type": "markdown",
      "metadata": {
        "id": "VfyMV4QXyyhu"
      },
      "source": [
        "## Processing the data\n",
        "\n",
        "We need to do the following things :\n",
        "\n",
        "- convert smile tokens to numbers\n",
        "- build  smile token sequences and corresponding labels pairs"
      ]
    },
    {
      "cell_type": "markdown",
      "metadata": {
        "id": "C-wwZXCOyyhu"
      },
      "source": [
        "Compute the biggest smile molecule size"
      ]
    },
    {
      "cell_type": "code",
      "execution_count": 3,
      "metadata": {
        "id": "FMkUcyH3yyhv"
      },
      "outputs": [
        {
          "name": "stdout",
          "output_type": "stream",
          "text": [
            "Max length of SMILES:  106\n"
          ]
        }
      ],
      "source": [
        "from rdkit import Chem\n",
        "\n",
        "max_len = df['smiles'].map(len).max()\n",
        "print('Max length of SMILES: ', max_len)"
      ]
    },
    {
      "cell_type": "markdown",
      "metadata": {
        "id": "7WrIDz_cyyhv"
      },
      "source": [
        "\n",
        "Code a function **unic_characters(string)** which return the unic characters in a string\n"
      ]
    },
    {
      "cell_type": "code",
      "execution_count": 4,
      "metadata": {
        "id": "alXR3qcHyyhw"
      },
      "outputs": [],
      "source": [
        "def unic_characters(string):\n",
        "    return list(set(string))"
      ]
    },
    {
      "cell_type": "markdown",
      "metadata": {
        "id": "4DITuFSeyyhx"
      },
      "source": [
        "Concatenate all smile string of the pandas dataframe and use **unic_characters** to get the unic_characters"
      ]
    },
    {
      "cell_type": "code",
      "execution_count": 5,
      "metadata": {
        "id": "Pweel8bxyyhx"
      },
      "outputs": [],
      "source": [
        "all_smiles = ''.join(df['smiles'])\n",
        "unic_characters_all_smiles = unic_characters(all_smiles)"
      ]
    },
    {
      "cell_type": "markdown",
      "metadata": {
        "id": "LXmrYw-nyyhy"
      },
      "source": [
        "Code a function **map_char_to_int(unic_chars)** which returns a dictionnary where each char is assigned an int value.\n",
        "Add a character to specify the end of the molecule (like \"\\n\")\n"
      ]
    },
    {
      "cell_type": "code",
      "execution_count": 6,
      "metadata": {
        "id": "dPvQzt1Oyyhy"
      },
      "outputs": [],
      "source": [
        "def map_char_to_int(unic_chars):\n",
        "    char_to_int = {}\n",
        "    max_i = 0\n",
        "    for i, char in enumerate(unic_chars):\n",
        "        char_to_int[char] = i\n",
        "        max_i = i\n",
        "    char_to_int['\\n'] = max_i + 1\n",
        "    return char_to_int"
      ]
    },
    {
      "cell_type": "markdown",
      "metadata": {
        "id": "GbrgQmRgyyhz"
      },
      "source": [
        "Code a function map_int_to_char(unic_chars) which returns the reverse mapping.\n",
        "\n",
        "If you want you can merge both functions in a class"
      ]
    },
    {
      "cell_type": "code",
      "execution_count": 7,
      "metadata": {
        "id": "mX3883sYyyh0"
      },
      "outputs": [],
      "source": [
        "def map_int_ot_char(unic_chars):\n",
        "    int_to_char = {}\n",
        "    max_i = 0\n",
        "    for i, char in enumerate(unic_chars):\n",
        "        int_to_char[i] = char\n",
        "        max_i = i\n",
        "    int_to_char[max_i + 1] = '\\n'\n",
        "    return int_to_char"
      ]
    },
    {
      "cell_type": "markdown",
      "metadata": {
        "id": "1etZs7T3yyh1"
      },
      "source": [
        "For each smile molecule add the ending token to it"
      ]
    },
    {
      "cell_type": "code",
      "execution_count": 8,
      "metadata": {
        "id": "hKC4TyuZyyh1"
      },
      "outputs": [],
      "source": [
        "df['smiles'] = df['smiles'].map(lambda x: x + '\\n')"
      ]
    },
    {
      "cell_type": "markdown",
      "metadata": {
        "id": "QpuIn5z1yyh2"
      },
      "source": [
        "## Building the dataset\n",
        "\n",
        "Now we will create the dataset so that it has the good share for our Keras LSTM model\n",
        "\n",
        "Remember Keras recurrent models expect a 3D array with shapes (n_examples, seq_len, n_features)\n",
        "\n"
      ]
    },
    {
      "cell_type": "markdown",
      "metadata": {
        "id": "ldUup-_Qyyh2"
      },
      "source": [
        "What will be n_features in our case ?"
      ]
    },
    {
      "cell_type": "markdown",
      "metadata": {
        "id": "90SP7KoTyyh3"
      },
      "source": [
        "n_features will be the number of unique characters in your character vocabulary."
      ]
    },
    {
      "cell_type": "markdown",
      "metadata": {
        "id": "Jwkwafxdyyh4"
      },
      "source": [
        "Code a function **build_X_and_y(string, i_char, seq_lenght)** which takes a string, a **seq_length** number and a position.\n",
        "\n",
        "\n",
        "It should create X by by getting all character between i and i + seq_length\n",
        "and create y by getting the character following the X sequence\n",
        "it returns X and y"
      ]
    },
    {
      "cell_type": "markdown",
      "metadata": {
        "id": "PfRJ_Lpkyyh4"
      },
      "source": [
        "Test your function on the following string \"\" with seq_length = 4 and i = [1, 2, 3]"
      ]
    },
    {
      "cell_type": "code",
      "execution_count": 20,
      "metadata": {
        "id": "ToDrNcT8yyh5"
      },
      "outputs": [],
      "source": [
        "def build_X_and_y(string, i_char, seq_length):\n",
        "    l = len(string)\n",
        "    X = []\n",
        "    i = i_char\n",
        "    for i in range(i_char, min(i_char + seq_length, l)):\n",
        "        X.append(string[i])\n",
        "    if i_char + seq_length >= l:\n",
        "        y = \"\\n\"\n",
        "    else:\n",
        "        y = string[i_char + seq_length]\n",
        "    return X, y"
      ]
    },
    {
      "cell_type": "code",
      "execution_count": 21,
      "metadata": {},
      "outputs": [
        {
          "data": {
            "text/plain": [
              "([], '\\n')"
            ]
          },
          "execution_count": 21,
          "metadata": {},
          "output_type": "execute_result"
        }
      ],
      "source": [
        "build_X_and_y(\"\", 1, 4)"
      ]
    },
    {
      "cell_type": "code",
      "execution_count": 22,
      "metadata": {},
      "outputs": [
        {
          "data": {
            "text/plain": [
              "([], '\\n')"
            ]
          },
          "execution_count": 22,
          "metadata": {},
          "output_type": "execute_result"
        }
      ],
      "source": [
        "build_X_and_y(\"\", 2, 4)"
      ]
    },
    {
      "cell_type": "code",
      "execution_count": 23,
      "metadata": {},
      "outputs": [
        {
          "data": {
            "text/plain": [
              "([], '\\n')"
            ]
          },
          "execution_count": 23,
          "metadata": {},
          "output_type": "execute_result"
        }
      ],
      "source": [
        "build_X_and_y(\"\", 3, 4)"
      ]
    },
    {
      "cell_type": "markdown",
      "metadata": {
        "id": "y9DdyLSUyyh5"
      },
      "source": [
        "By using build_X_and_y and map_char_to_int build a list nameed X_train and a list named y_train"
      ]
    },
    {
      "cell_type": "code",
      "execution_count": 120,
      "metadata": {
        "id": "xRb61XzXyyh6"
      },
      "outputs": [],
      "source": [
        "unic_char_int = map_char_to_int(unic_characters_all_smiles)\n",
        "\n",
        "X_train = []\n",
        "y_train = []\n",
        "for i in range(len(df)):\n",
        "    for i_char in range(len(df['smiles'][i]) - 6):\n",
        "        X, y = build_X_and_y(df['smiles'][i], i_char, 5)\n",
        "        X_train.append([unic_char_int[char] for char in X])\n",
        "        y_train.append(unic_char_int[y])"
      ]
    },
    {
      "cell_type": "markdown",
      "metadata": {
        "id": "fubbPe7Vyyh6"
      },
      "source": [
        "Create numpy arrays from the lists"
      ]
    },
    {
      "cell_type": "code",
      "execution_count": 121,
      "metadata": {
        "id": "il1hbrsbyyh7"
      },
      "outputs": [],
      "source": [
        "import numpy as np\n",
        "\n",
        "X_train = np.array(X_train)\n",
        "y_train = np.array(y_train)"
      ]
    },
    {
      "cell_type": "markdown",
      "metadata": {
        "id": "Wb5Y3ERkyyh8"
      },
      "source": [
        "Reshape the X numpy array (n_examples, seq_lenght, 1)"
      ]
    },
    {
      "cell_type": "code",
      "execution_count": 122,
      "metadata": {
        "id": "T6mf5a4Dyyh8"
      },
      "outputs": [
        {
          "data": {
            "text/plain": [
              "(40242, 5, 1)"
            ]
          },
          "execution_count": 122,
          "metadata": {},
          "output_type": "execute_result"
        }
      ],
      "source": [
        "X_train = np.reshape(X_train, (X_train.shape[0], X_train.shape[1], 1))\n",
        "\n",
        "X_train.shape"
      ]
    },
    {
      "cell_type": "markdown",
      "metadata": {
        "id": "l7x4U0tCyyh9"
      },
      "source": [
        "Normalize X by dividing each values by the total number of unic characters"
      ]
    },
    {
      "cell_type": "code",
      "execution_count": 123,
      "metadata": {
        "id": "lHTjPnv4yyh9"
      },
      "outputs": [],
      "source": [
        "nb_unic_chars = len(unic_characters_all_smiles) + 1\n",
        "X_train = X_train / float(nb_unic_chars)"
      ]
    },
    {
      "cell_type": "markdown",
      "metadata": {
        "id": "iWnIpi2uyyh9"
      },
      "source": [
        "Import Keras and build (at least) a two layered LSTM network with 128 neurone in each.\n",
        "\n",
        "You can also add Dropoutlayers\n",
        "\n",
        "Do you think you should use the return_sequences = True ? If yes, when ?\n",
        "\n",
        "\n",
        "Add a Dense layer on top with with the appropriate activation function and number of neurones\n"
      ]
    },
    {
      "cell_type": "markdown",
      "metadata": {},
      "source": [
        "The parameter return_sequeces is set to True when we want to make sequence to sequence prediction. In our case, we want to predict the next character of the sequence, so we don't need to set it to True. Also, We need to use return_sequeces = True when we want to stack multiple LSTM layers."
      ]
    },
    {
      "cell_type": "code",
      "execution_count": 162,
      "metadata": {
        "id": "9a0Vz4L8yyiM"
      },
      "outputs": [],
      "source": [
        "from keras.models import Sequential\n",
        "from keras.layers import LSTM, Dropout, Dense\n",
        "\n",
        "model = Sequential()\n",
        "\n",
        "model.add(LSTM(128, input_shape=X_train[0].shape, return_sequences=True))\n",
        "model.add(Dropout(0.2))\n",
        "model.add(LSTM(128, return_sequences=False))\n",
        "model.add(Dropout(0.2))\n",
        "model.add(Dense(nb_unic_chars, activation='sigmoid'))"
      ]
    },
    {
      "cell_type": "markdown",
      "metadata": {
        "id": "q1cAV53EyyiN"
      },
      "source": [
        "Compile the model with the appropriate loss function and the adam optimizer"
      ]
    },
    {
      "cell_type": "code",
      "execution_count": 148,
      "metadata": {
        "id": "6q2XpZQ4yyiO"
      },
      "outputs": [
        {
          "name": "stdout",
          "output_type": "stream",
          "text": [
            "Model: \"sequential_14\"\n",
            "_________________________________________________________________\n",
            " Layer (type)                Output Shape              Param #   \n",
            "=================================================================\n",
            " lstm_28 (LSTM)              (None, 5, 128)            66560     \n",
            "                                                                 \n",
            " dropout_26 (Dropout)        (None, 5, 128)            0         \n",
            "                                                                 \n",
            " lstm_29 (LSTM)              (None, 128)               131584    \n",
            "                                                                 \n",
            " dropout_27 (Dropout)        (None, 128)               0         \n",
            "                                                                 \n",
            " dense_12 (Dense)            (None, 34)                4386      \n",
            "                                                                 \n",
            "=================================================================\n",
            "Total params: 202530 (791.13 KB)\n",
            "Trainable params: 202530 (791.13 KB)\n",
            "Non-trainable params: 0 (0.00 Byte)\n",
            "_________________________________________________________________\n"
          ]
        }
      ],
      "source": [
        "model.compile(loss='sparse_categorical_crossentropy', optimizer='adam')\n",
        "\n",
        "model.summary()"
      ]
    },
    {
      "cell_type": "markdown",
      "metadata": {
        "id": "ZIq8gdLyyyiP"
      },
      "source": [
        "Train the model on 20 epochs and 10 examples (yeah you read correctly) and check that the model overfits !"
      ]
    },
    {
      "cell_type": "code",
      "execution_count": 149,
      "metadata": {
        "id": "7Qm3jXR7yyiP"
      },
      "outputs": [
        {
          "name": "stdout",
          "output_type": "stream",
          "text": [
            "Epoch 1/20\n"
          ]
        },
        {
          "name": "stdout",
          "output_type": "stream",
          "text": [
            "1/1 [==============================] - 3s 3s/step - loss: 3.5357\n",
            "Epoch 2/20\n",
            "1/1 [==============================] - 0s 9ms/step - loss: 3.5219\n",
            "Epoch 3/20\n",
            "1/1 [==============================] - 0s 9ms/step - loss: 3.5064\n",
            "Epoch 4/20\n",
            "1/1 [==============================] - 0s 9ms/step - loss: 3.4893\n",
            "Epoch 5/20\n",
            "1/1 [==============================] - 0s 9ms/step - loss: 3.4719\n",
            "Epoch 6/20\n",
            "1/1 [==============================] - 0s 8ms/step - loss: 3.4569\n",
            "Epoch 7/20\n",
            "1/1 [==============================] - 0s 9ms/step - loss: 3.4418\n",
            "Epoch 8/20\n",
            "1/1 [==============================] - 0s 8ms/step - loss: 3.4077\n",
            "Epoch 9/20\n",
            "1/1 [==============================] - 0s 9ms/step - loss: 3.3881\n",
            "Epoch 10/20\n",
            "1/1 [==============================] - 0s 9ms/step - loss: 3.3446\n",
            "Epoch 11/20\n",
            "1/1 [==============================] - 0s 10ms/step - loss: 3.3092\n",
            "Epoch 12/20\n",
            "1/1 [==============================] - 0s 9ms/step - loss: 3.2448\n",
            "Epoch 13/20\n",
            "1/1 [==============================] - 0s 8ms/step - loss: 3.2064\n",
            "Epoch 14/20\n",
            "1/1 [==============================] - 0s 9ms/step - loss: 3.1119\n",
            "Epoch 15/20\n",
            "1/1 [==============================] - 0s 9ms/step - loss: 3.0661\n",
            "Epoch 16/20\n",
            "1/1 [==============================] - 0s 11ms/step - loss: 2.9156\n",
            "Epoch 17/20\n",
            "1/1 [==============================] - 0s 16ms/step - loss: 2.8213\n",
            "Epoch 18/20\n",
            "1/1 [==============================] - 0s 20ms/step - loss: 2.7207\n",
            "Epoch 19/20\n",
            "1/1 [==============================] - 0s 11ms/step - loss: 2.5705\n",
            "Epoch 20/20\n",
            "1/1 [==============================] - 0s 14ms/step - loss: 2.3155\n"
          ]
        },
        {
          "data": {
            "text/plain": [
              "<keras.src.callbacks.History at 0x7f91043cbf90>"
            ]
          },
          "execution_count": 149,
          "metadata": {},
          "output_type": "execute_result"
        }
      ],
      "source": [
        "model.fit(X_train[:10], y_train[:10], epochs=20)"
      ]
    },
    {
      "cell_type": "markdown",
      "metadata": {
        "id": "altB1J4xyyiQ"
      },
      "source": [
        "If it does not overfit try to fix data prep and model architecture so it does"
      ]
    },
    {
      "cell_type": "markdown",
      "metadata": {},
      "source": [
        "The model does overfit"
      ]
    },
    {
      "cell_type": "markdown",
      "metadata": {
        "id": "BMCFxz-wyyiR"
      },
      "source": [
        "Create a function **make_prediction(seed_start)** which takes a starting string sequence and uses it to generate a molecule\n"
      ]
    },
    {
      "cell_type": "code",
      "execution_count": 178,
      "metadata": {
        "id": "ulAAk9plyyiS"
      },
      "outputs": [],
      "source": [
        "def make_prediction(seed_start):\n",
        "    import random\n",
        "    length = random.randint(10, 50)\n",
        "    while len(seed_start) < length:\n",
        "        X, _ = build_X_and_y(seed_start, len(seed_start) - 5, 5)\n",
        "        X = np.array([unic_char_int[char] for char in X]).astype(np.float32)\n",
        "        X = np.reshape(X, (X.shape[0], 1))\n",
        "        X = X / float(nb_unic_chars)\n",
        "        pred = model.predict(np.array([X]), verbose=0)\n",
        "        seed_start += map_int_ot_char(unic_characters_all_smiles)[np.argmax(pred)]\n",
        "    return seed_start"
      ]
    },
    {
      "cell_type": "markdown",
      "metadata": {
        "id": "cHb0mnp5yyiS"
      },
      "source": [
        "generate a molecule of your overfitted model"
      ]
    },
    {
      "cell_type": "code",
      "execution_count": null,
      "metadata": {
        "id": "yWlnEs0-yyiT"
      },
      "outputs": [
        {
          "data": {
            "text/plain": [
              "'CC1=CC=CC=C1'"
            ]
          },
          "execution_count": 179,
          "metadata": {},
          "output_type": "execute_result"
        }
      ],
      "source": [
        "make_prediction('CC1=')"
      ]
    },
    {
      "cell_type": "markdown",
      "metadata": {
        "id": "AyZcbVC4yyiU"
      },
      "source": [
        "Make a model checkpoint so that the model is saved after each epoch\n",
        "if you train on a plateform and it stops you do not lose your training"
      ]
    },
    {
      "cell_type": "code",
      "execution_count": 163,
      "metadata": {
        "id": "hhOqrs9NyyiV"
      },
      "outputs": [],
      "source": [
        "from keras.callbacks import ModelCheckpoint\n",
        "\n",
        "filepath=\"model/weights-improvement-{epoch:02d}-{loss:.4f}.hdf5\"\n",
        "checkpoint = ModelCheckpoint(filepath, monitor='loss', verbose=1, save_best_only=True, mode='min')\n",
        "\n",
        "model.compile(loss='sparse_categorical_crossentropy', optimizer='adam')"
      ]
    },
    {
      "cell_type": "markdown",
      "metadata": {
        "id": "chEa4hmZyyiV"
      },
      "source": [
        "Now go to your favorite plateform (colab or something else) and train the dataset on the whole data for 10 epochs and batch size 256\n",
        "\n",
        "it should take a long time so either follow the class or go take a nap"
      ]
    },
    {
      "cell_type": "code",
      "execution_count": 164,
      "metadata": {
        "id": "-iyk8BvZyyiW"
      },
      "outputs": [
        {
          "name": "stdout",
          "output_type": "stream",
          "text": [
            "Epoch 1/10\n"
          ]
        },
        {
          "name": "stdout",
          "output_type": "stream",
          "text": [
            "158/158 [==============================] - ETA: 0s - loss: 2.7791\n",
            "Epoch 1: loss improved from inf to 2.77912, saving model to model/weights-improvement-01-2.7791.hdf5\n",
            "158/158 [==============================] - 6s 20ms/step - loss: 2.7791\n",
            "Epoch 2/10\n",
            "156/158 [============================>.] - ETA: 0s - loss: 2.6450\n",
            "Epoch 2: loss improved from 2.77912 to 2.64513, saving model to model/weights-improvement-02-2.6451.hdf5\n",
            "158/158 [==============================] - 3s 21ms/step - loss: 2.6451\n",
            "Epoch 3/10\n",
            "157/158 [============================>.] - ETA: 0s - loss: 2.5455\n",
            "Epoch 3: loss improved from 2.64513 to 2.54549, saving model to model/weights-improvement-03-2.5455.hdf5\n",
            "158/158 [==============================] - 3s 21ms/step - loss: 2.5455\n",
            "Epoch 4/10\n",
            "157/158 [============================>.] - ETA: 0s - loss: 2.4095\n",
            "Epoch 4: loss improved from 2.54549 to 2.40964, saving model to model/weights-improvement-04-2.4096.hdf5\n",
            "158/158 [==============================] - 3s 17ms/step - loss: 2.4096\n",
            "Epoch 5/10\n",
            "155/158 [============================>.] - ETA: 0s - loss: 2.2180\n",
            "Epoch 5: loss improved from 2.40964 to 2.21741, saving model to model/weights-improvement-05-2.2174.hdf5\n",
            "158/158 [==============================] - 3s 18ms/step - loss: 2.2174\n",
            "Epoch 6/10\n",
            "157/158 [============================>.] - ETA: 0s - loss: 2.0320\n",
            "Epoch 6: loss improved from 2.21741 to 2.03198, saving model to model/weights-improvement-06-2.0320.hdf5\n",
            "158/158 [==============================] - 3s 17ms/step - loss: 2.0320\n",
            "Epoch 7/10\n",
            "155/158 [============================>.] - ETA: 0s - loss: 1.8918\n",
            "Epoch 7: loss improved from 2.03198 to 1.89020, saving model to model/weights-improvement-07-1.8902.hdf5\n",
            "158/158 [==============================] - 3s 20ms/step - loss: 1.8902\n",
            "Epoch 8/10\n",
            "157/158 [============================>.] - ETA: 0s - loss: 1.7954\n",
            "Epoch 8: loss improved from 1.89020 to 1.79569, saving model to model/weights-improvement-08-1.7957.hdf5\n",
            "158/158 [==============================] - 3s 20ms/step - loss: 1.7957\n",
            "Epoch 9/10\n",
            "158/158 [==============================] - ETA: 0s - loss: 1.7140\n",
            "Epoch 9: loss improved from 1.79569 to 1.71399, saving model to model/weights-improvement-09-1.7140.hdf5\n",
            "158/158 [==============================] - 3s 21ms/step - loss: 1.7140\n",
            "Epoch 10/10\n",
            "155/158 [============================>.] - ETA: 0s - loss: 1.6554\n",
            "Epoch 10: loss improved from 1.71399 to 1.65518, saving model to model/weights-improvement-10-1.6552.hdf5\n",
            "158/158 [==============================] - 3s 21ms/step - loss: 1.6552\n"
          ]
        },
        {
          "data": {
            "text/plain": [
              "<keras.src.callbacks.History at 0x7f90edabac90>"
            ]
          },
          "execution_count": 164,
          "metadata": {},
          "output_type": "execute_result"
        }
      ],
      "source": [
        "model.fit(X_train, y_train, epochs=10, callbacks=[checkpoint], batch_size=256)"
      ]
    },
    {
      "cell_type": "markdown",
      "metadata": {
        "id": "QGzxqv3hyyiX"
      },
      "source": [
        "Generate between 100 and 1000 molecules.\n",
        "\n",
        "create a list where molecules have between 10 and 50 atoms"
      ]
    },
    {
      "cell_type": "code",
      "execution_count": 185,
      "metadata": {
        "id": "9E9fhvHQyyiY"
      },
      "outputs": [],
      "source": [
        "pred_vectorized = np.vectorize(lambda x: make_prediction(x[:5]))\n",
        "\n",
        "smiles = df['smiles'][:250].to_numpy()\n",
        "\n",
        "generated = pd.DataFrame()\n",
        "\n",
        "generated['smiles'] = pred_vectorized(smiles)"
      ]
    },
    {
      "cell_type": "markdown",
      "metadata": {
        "id": "eQwmMBBnyyiY"
      },
      "source": [
        "With rdkit compute the Quantified Estimated Drug likelyness (QED) of each molecule in this subset"
      ]
    },
    {
      "cell_type": "code",
      "execution_count": 186,
      "metadata": {
        "id": "EPboRawUyyiZ"
      },
      "outputs": [
        {
          "name": "stderr",
          "output_type": "stream",
          "text": [
            "[12:25:35] SMILES Parse Error: extra close parentheses while parsing: N#Cc1ccc(CC)c1)cccc1CCCCCCCCCCCCCCCC\n",
            "[12:25:35] SMILES Parse Error: Failed parsing SMILES 'N#Cc1ccc(CC)c1)cccc1CCCCCCCCCCCCCCCC' for input: 'N#Cc1ccc(CC)c1)cccc1CCCCCCCCCCCCCCCC'\n",
            "[12:25:35] SMILES Parse Error: unclosed ring for input: 'N#CC1CCCCCCCCCCCCCCCCCCCCCCCCCCCCCCCCCCC'\n",
            "[12:25:35] SMILES Parse Error: extra close parentheses while parsing: CC[NH])c1ccc(CC)c1)cccc1CCCCCCCCCCCCCCCCCCCCC\n",
            "[12:25:35] SMILES Parse Error: Failed parsing SMILES 'CC[NH])c1ccc(CC)c1)cccc1CCCCCCCCCCCCCCCCCCCCC' for input: 'CC[NH])c1ccc(CC)c1)cccc1CCCCCCCCCCCCCCCCCCCCC'\n",
            "[12:25:35] SMILES Parse Error: extra close parentheses while parsing: COc1ccc(CC)c1)cccc1CCCC\n",
            "[12:25:35] SMILES Parse Error: Failed parsing SMILES 'COc1ccc(CC)c1)cccc1CCCC' for input: 'COc1ccc(CC)c1)cccc1CCCC'\n",
            "[12:25:35] SMILES Parse Error: extra close parentheses while parsing: CCOc1ccc(CC)c1)cccc1CCCCCCCCCCCCCCCCCCCCC\n",
            "[12:25:35] SMILES Parse Error: Failed parsing SMILES 'CCOc1ccc(CC)c1)cccc1CCCCCCCCCCCCCCCCCCCCC' for input: 'CCOc1ccc(CC)c1)cccc1CCCCCCCCCCCCCCCCCCCCC'\n",
            "[12:25:35] SMILES Parse Error: extra close parentheses while parsing: Cc1ccc(CC)c1)cccc1CCCCCCCCCCCCCC\n",
            "[12:25:35] SMILES Parse Error: Failed parsing SMILES 'Cc1ccc(CC)c1)cccc1CCCCCCCCCCCCCC' for input: 'Cc1ccc(CC)c1)cccc1CCCCCCCCCCCCCC'\n",
            "[12:25:35] SMILES Parse Error: extra close parentheses while parsing: Cc1ccc(CC)c1)cccc1CCCCCCCCCCCCCCCCCCCCCCC\n",
            "[12:25:35] SMILES Parse Error: Failed parsing SMILES 'Cc1ccc(CC)c1)cccc1CCCCCCCCCCCCCCCCCCCCCCC' for input: 'Cc1ccc(CC)c1)cccc1CCCCCCCCCCCCCCCCCCCCCCC'\n",
            "[12:25:35] SMILES Parse Error: extra close parentheses while parsing: CCCc1ccc(CC)c1)c\n",
            "[12:25:35] SMILES Parse Error: Failed parsing SMILES 'CCCc1ccc(CC)c1)c' for input: 'CCCc1ccc(CC)c1)c'\n",
            "[12:25:35] SMILES Parse Error: extra close parentheses while parsing: Cc1ccc(CC)c1)cccc1CCCCCCCCCCCCCCCC\n",
            "[12:25:35] SMILES Parse Error: Failed parsing SMILES 'Cc1ccc(CC)c1)cccc1CCCCCCCCCCCCCCCC' for input: 'Cc1ccc(CC)c1)cccc1CCCCCCCCCCCCCCCC'\n",
            "[12:25:35] SMILES Parse Error: extra open parentheses for input: 'CCN(CCCCCCCCCCCCCCCCCCCCCCCCCCCCCCCCCCCC'\n",
            "[12:25:35] Can't kekulize mol.  Unkekulized atoms: 2 3 4 5 6\n",
            "[12:25:35] SMILES Parse Error: extra close parentheses while parsing: Cc1ccc(CC)c1)cccc1CCCCCCCCCCCCCCCCCCCCCCCCCCCC\n",
            "[12:25:35] SMILES Parse Error: Failed parsing SMILES 'Cc1ccc(CC)c1)cccc1CCCCCCCCCCCCCCCCCCCCCCCCCCCC' for input: 'Cc1ccc(CC)c1)cccc1CCCCCCCCCCCCCCCCCCCCCCCCCCCC'\n",
            "[12:25:35] SMILES Parse Error: extra close parentheses while parsing: N#Cc1ccc(CC)c1)cc\n",
            "[12:25:35] SMILES Parse Error: Failed parsing SMILES 'N#Cc1ccc(CC)c1)cc' for input: 'N#Cc1ccc(CC)c1)cc'\n",
            "[12:25:35] SMILES Parse Error: extra close parentheses while parsing: Cc1ccc(CC)c1)cccc1CCCCCCCCCCCCCCCC\n",
            "[12:25:35] SMILES Parse Error: Failed parsing SMILES 'Cc1ccc(CC)c1)cccc1CCCCCCCCCCCCCCCC' for input: 'Cc1ccc(CC)c1)cccc1CCCCCCCCCCCCCCCC'\n",
            "[12:25:35] SMILES Parse Error: unclosed ring for input: 'CC1=CCCCCCCCCCC'\n",
            "[12:25:35] SMILES Parse Error: extra close parentheses while parsing: CCc1ccc(CC)c1)cccc1CCCCCCCCCCCCCCCCCCCCCCCCCCCCCCC\n",
            "[12:25:35] SMILES Parse Error: Failed parsing SMILES 'CCc1ccc(CC)c1)cccc1CCCCCCCCCCCCCCCCCCCCCCCCCCCCCCC' for input: 'CCc1ccc(CC)c1)cccc1CCCCCCCCCCCCCCCCCCCCCCCCCCCCCCC'\n",
            "[12:25:35] SMILES Parse Error: extra close parentheses while parsing: Cc1ccc(CC)c1)cccc1CCCCC\n",
            "[12:25:35] SMILES Parse Error: Failed parsing SMILES 'Cc1ccc(CC)c1)cccc1CCCCC' for input: 'Cc1ccc(CC)c1)cccc1CCCCC'\n",
            "[12:25:35] Explicit valence for atom # 3 N, 4, is greater than permitted\n",
            "[12:25:35] SMILES Parse Error: extra close parentheses while parsing: O=[N+])c1c\n",
            "[12:25:35] SMILES Parse Error: Failed parsing SMILES 'O=[N+])c1c' for input: 'O=[N+])c1c'\n",
            "[12:25:35] SMILES Parse Error: extra open parentheses for input: 'O=C(CCCCCCCCCCCCCCCCCCCCCCCCCCCC'\n",
            "[12:25:35] SMILES Parse Error: extra close parentheses while parsing: COc1ccc(CC)c1)cccc1CCCCCCCCCCCCCCCCCCCCCC\n",
            "[12:25:35] SMILES Parse Error: Failed parsing SMILES 'COc1ccc(CC)c1)cccc1CCCCCCCCCCCCCCCCCCCCCC' for input: 'COc1ccc(CC)c1)cccc1CCCCCCCCCCCCCCCCCCCCCC'\n",
            "[12:25:35] SMILES Parse Error: extra close parentheses while parsing: CCn1ccccc2)c2ccccc2)c2ccccc2)c2ccccc2)c2ccccc2)c2\n",
            "[12:25:35] SMILES Parse Error: Failed parsing SMILES 'CCn1ccccc2)c2ccccc2)c2ccccc2)c2ccccc2)c2ccccc2)c2' for input: 'CCn1ccccc2)c2ccccc2)c2ccccc2)c2ccccc2)c2ccccc2)c2'\n",
            "[12:25:35] SMILES Parse Error: syntax error while parsing: Cc1[nc@1)c2ccccc2)c2ccccc2)\n",
            "[12:25:35] SMILES Parse Error: Failed parsing SMILES 'Cc1[nc@1)c2ccccc2)c2ccccc2)' for input: 'Cc1[nc@1)c2ccccc2)c2ccccc2)'\n",
            "[12:25:35] SMILES Parse Error: extra close parentheses while parsing: Cc1noccccc2)c2ccccc2)c2c\n",
            "[12:25:35] SMILES Parse Error: Failed parsing SMILES 'Cc1noccccc2)c2ccccc2)c2c' for input: 'Cc1noccccc2)c2ccccc2)c2c'\n",
            "[12:25:35] SMILES Parse Error: extra close parentheses while parsing: CCn1ccccc2)c2ccccc2)\n",
            "[12:25:35] SMILES Parse Error: Failed parsing SMILES 'CCn1ccccc2)c2ccccc2)' for input: 'CCn1ccccc2)c2ccccc2)'\n",
            "[12:25:35] SMILES Parse Error: extra close parentheses while parsing: COc1ccc(CC)c1)cccc1CCCCCCCCCCCCCCCCCCCCCCCCCCCCCCC\n",
            "[12:25:35] SMILES Parse Error: Failed parsing SMILES 'COc1ccc(CC)c1)cccc1CCCCCCCCCCCCCCCCCCCCCCCCCCCCCCC' for input: 'COc1ccc(CC)c1)cccc1CCCCCCCCCCCCCCCCCCCCCCCCCCCCCCC'\n",
            "[12:25:35] SMILES Parse Error: extra close parentheses while parsing: COc1ccc(CC)c1)cccc1CCCCCCCCCCCCCCCCCCCC\n",
            "[12:25:35] SMILES Parse Error: Failed parsing SMILES 'COc1ccc(CC)c1)cccc1CCCCCCCCCCCCCCCCCCCC' for input: 'COc1ccc(CC)c1)cccc1CCCCCCCCCCCCCCCCCCCC'\n",
            "[12:25:35] SMILES Parse Error: unclosed ring for input: 'O=C1CCCCCCCCCCCCCCCCCCCCCCCCCCCCCCCCCCCCCCCCCCCCCC'\n",
            "[12:25:35] SMILES Parse Error: extra open parentheses for input: 'O=C(CCCCCCCCCCCCCCCCCCCCCCCCCCCCCCCCC'\n",
            "[12:25:35] SMILES Parse Error: extra open parentheses for input: 'CN(CCCCCCCCCCCCCCCCC'\n",
            "[12:25:35] SMILES Parse Error: extra close parentheses while parsing: COc1ccc(CC)c1)cccc1\n",
            "[12:25:35] SMILES Parse Error: Failed parsing SMILES 'COc1ccc(CC)c1)cccc1' for input: 'COc1ccc(CC)c1)cccc1'\n",
            "[12:25:35] SMILES Parse Error: extra close parentheses while parsing: Cc1occc(CC)c1)cccc1CCCCCCCCCCCCCCCCCCCCCCCCCCCCCCC\n",
            "[12:25:35] SMILES Parse Error: Failed parsing SMILES 'Cc1occc(CC)c1)cccc1CCCCCCCCCCCCCCCCCCCCCCCCCCCCCCC' for input: 'Cc1occc(CC)c1)cccc1CCCCCCCCCCCCCCCCCCCCCCCCCCCCCCC'\n",
            "[12:25:35] SMILES Parse Error: extra close parentheses while parsing: COc1ccc(CC)c1)cccc1CCCCCCCC\n",
            "[12:25:35] SMILES Parse Error: Failed parsing SMILES 'COc1ccc(CC)c1)cccc1CCCCCCCC' for input: 'COc1ccc(CC)c1)cccc1CCCCCCCC'\n",
            "[12:25:35] SMILES Parse Error: extra close parentheses while parsing: O=C(ccccc2)c2ccccc2)c2ccccc2)c2ccccc2)c2c\n",
            "[12:25:35] SMILES Parse Error: Failed parsing SMILES 'O=C(ccccc2)c2ccccc2)c2ccccc2)c2ccccc2)c2c' for input: 'O=C(ccccc2)c2ccccc2)c2ccccc2)c2ccccc2)c2c'\n",
            "[12:25:35] SMILES Parse Error: extra close parentheses while parsing: CCn1ccccc2)c2ccccc2)c2ccccc2)c2ccccc2)c2\n",
            "[12:25:35] SMILES Parse Error: Failed parsing SMILES 'CCn1ccccc2)c2ccccc2)c2ccccc2)c2ccccc2)c2' for input: 'CCn1ccccc2)c2ccccc2)c2ccccc2)c2ccccc2)c2'\n",
            "[12:25:35] SMILES Parse Error: unclosed ring for input: 'C=CCnCC1CCCCCCCCCCCCCCCCCCCCCCCCCCCCCCCCCCCCCCC'\n",
            "[12:25:35] SMILES Parse Error: extra close parentheses while parsing: Cc1ccc(CC)c1)cccc1CCCCCCCCCCCCCCCCCCCCCCCCCCC\n",
            "[12:25:35] SMILES Parse Error: Failed parsing SMILES 'Cc1ccc(CC)c1)cccc1CCCCCCCCCCCCCCCCCCCCCCCCCCC' for input: 'Cc1ccc(CC)c1)cccc1CCCCCCCCCCCCCCCCCCCCCCCCCCC'\n",
            "[12:25:35] SMILES Parse Error: extra close parentheses while parsing: Cc1ccc(CC)c1)c\n",
            "[12:25:35] SMILES Parse Error: Failed parsing SMILES 'Cc1ccc(CC)c1)c' for input: 'Cc1ccc(CC)c1)c'\n",
            "[12:25:35] SMILES Parse Error: extra close parentheses while parsing: COc1ccc(CC)c1)cccc1CCCCCCCCCCCCCCCCCCCCCCCCC\n",
            "[12:25:35] SMILES Parse Error: Failed parsing SMILES 'COc1ccc(CC)c1)cccc1CCCCCCCCCCCCCCCCCCCCCCCCC' for input: 'COc1ccc(CC)c1)cccc1CCCCCCCCCCCCCCCCCCCCCCCCC'\n",
            "[12:25:35] SMILES Parse Error: unclosed ring for input: 'COc1ccc(CC)'\n",
            "[12:25:35] SMILES Parse Error: extra close parentheses while parsing: COc1ccc(CC)c1)cccc1CCCCCCCCCCCCCCCCCC\n",
            "[12:25:35] SMILES Parse Error: Failed parsing SMILES 'COc1ccc(CC)c1)cccc1CCCCCCCCCCCCCCCCCC' for input: 'COc1ccc(CC)c1)cccc1CCCCCCCCCCCCCCCCCC'\n",
            "[12:25:35] SMILES Parse Error: extra open parentheses for input: 'COc1ccc(CC'\n",
            "[12:25:35] SMILES Parse Error: syntax error while parsing: COCC[2cccc\n",
            "[12:25:35] SMILES Parse Error: Failed parsing SMILES 'COCC[2cccc' for input: 'COCC[2cccc'\n",
            "[12:25:35] SMILES Parse Error: extra close parentheses while parsing: Cc1ccc(CC)c1)cccc1CCCCCCCCCCCCCCC\n",
            "[12:25:35] SMILES Parse Error: Failed parsing SMILES 'Cc1ccc(CC)c1)cccc1CCCCCCCCCCCCCCC' for input: 'Cc1ccc(CC)c1)cccc1CCCCCCCCCCCCCCC'\n",
            "[12:25:35] SMILES Parse Error: extra close parentheses while parsing: CCOc1ccc(CC)c1)cccc1CCCCCCCCCCCCCCCCCCCCC\n",
            "[12:25:35] SMILES Parse Error: Failed parsing SMILES 'CCOc1ccc(CC)c1)cccc1CCCCCCCCCCCCCCCCCCCCC' for input: 'CCOc1ccc(CC)c1)cccc1CCCCCCCCCCCCCCCCCCCCC'\n",
            "[12:25:35] SMILES Parse Error: extra close parentheses while parsing: Cc1ccc(CC)c1)cccc1CCCCCCCCCCCCCCCCCCCCC\n",
            "[12:25:35] SMILES Parse Error: Failed parsing SMILES 'Cc1ccc(CC)c1)cccc1CCCCCCCCCCCCCCCCCCCCC' for input: 'Cc1ccc(CC)c1)cccc1CCCCCCCCCCCCCCCCCCCCC'\n",
            "[12:25:35] SMILES Parse Error: extra close parentheses while parsing: CCc1ccc(CC)c1)cccc1CCCCCCCCCCCCCCCCCCCCCCCCCCCCC\n",
            "[12:25:35] SMILES Parse Error: Failed parsing SMILES 'CCc1ccc(CC)c1)cccc1CCCCCCCCCCCCCCCCCCCCCCCCCCCCC' for input: 'CCc1ccc(CC)c1)cccc1CCCCCCCCCCCCCCCCCCCCCCCCCCCCC'\n",
            "[12:25:35] SMILES Parse Error: extra close parentheses while parsing: Cc1ccc(CC)c1)cccc1CCCCCCCCCCCCCCCCCCCCCCCCCCCCCCCC\n",
            "[12:25:35] SMILES Parse Error: Failed parsing SMILES 'Cc1ccc(CC)c1)cccc1CCCCCCCCCCCCCCCCCCCCCCCCCCCCCCCC' for input: 'Cc1ccc(CC)c1)cccc1CCCCCCCCCCCCCCCCCCCCCCCCCCCCCCCC'\n",
            "[12:25:35] SMILES Parse Error: unclosed ring for input: 'N#CC1CCCCCCCCCCCCCCCCCCCCCCCCCCCCCCCCCCCCCCCC'\n",
            "[12:25:35] SMILES Parse Error: unclosed ring for input: 'COC1CCCCCCCCCC'\n",
            "[12:25:35] SMILES Parse Error: extra close parentheses while parsing: Cc1ccc(CC)c1)cccc1CCCCCCCCCCCCC\n",
            "[12:25:35] SMILES Parse Error: Failed parsing SMILES 'Cc1ccc(CC)c1)cccc1CCCCCCCCCCCCC' for input: 'Cc1ccc(CC)c1)cccc1CCCCCCCCCCCCC'\n",
            "[12:25:35] SMILES Parse Error: unclosed ring for input: 'O=C1NCCCCCC'\n",
            "[12:25:35] SMILES Parse Error: extra close parentheses while parsing: CCc1ccc(CC)c1)ccc\n",
            "[12:25:35] SMILES Parse Error: Failed parsing SMILES 'CCc1ccc(CC)c1)ccc' for input: 'CCc1ccc(CC)c1)ccc'\n",
            "[12:25:35] SMILES Parse Error: extra close parentheses while parsing: COc1ccc(CC)c1)cccc1CCCC\n",
            "[12:25:35] SMILES Parse Error: Failed parsing SMILES 'COc1ccc(CC)c1)cccc1CCCC' for input: 'COc1ccc(CC)c1)cccc1CCCC'\n",
            "[12:25:35] SMILES Parse Error: extra close parentheses while parsing: CCCc1ccc(CC)c1)cc\n",
            "[12:25:35] SMILES Parse Error: Failed parsing SMILES 'CCCc1ccc(CC)c1)cc' for input: 'CCCc1ccc(CC)c1)cc'\n",
            "[12:25:35] SMILES Parse Error: extra close parentheses while parsing: O=[N+])c1ccc(CC)c1)cccc\n",
            "[12:25:35] SMILES Parse Error: Failed parsing SMILES 'O=[N+])c1ccc(CC)c1)cccc' for input: 'O=[N+])c1ccc(CC)c1)cccc'\n",
            "[12:25:35] SMILES Parse Error: extra close parentheses while parsing: Cc1ccc(CC)c1)cccc1CCCCCCCCCCCCCCCCCCCCCCC\n",
            "[12:25:35] SMILES Parse Error: Failed parsing SMILES 'Cc1ccc(CC)c1)cccc1CCCCCCCCCCCCCCCCCCCCCCC' for input: 'Cc1ccc(CC)c1)cccc1CCCCCCCCCCCCCCCCCCCCCCC'\n",
            "[12:25:35] SMILES Parse Error: extra open parentheses for input: 'CCN(CCCCCCCCC'\n",
            "[12:25:35] SMILES Parse Error: extra open parentheses for input: 'CCCN(CCCCCCCCCCCCCCCCCCCCCCCCCCCCCCCC'\n",
            "[12:25:35] SMILES Parse Error: extra close parentheses while parsing: Cc1ccc(CC)c1)cccc1CCCCCCCCC\n",
            "[12:25:35] SMILES Parse Error: Failed parsing SMILES 'Cc1ccc(CC)c1)cccc1CCCCCCCCC' for input: 'Cc1ccc(CC)c1)cccc1CCCCCCCCC'\n",
            "[12:25:35] Explicit valence for atom # 3 N, 4, is greater than permitted\n",
            "[12:25:35] SMILES Parse Error: extra close parentheses while parsing: O=C1ccccc2)c2ccccc2)c2ccccc2)c2ccccc2)c2ccccc2)c\n",
            "[12:25:35] SMILES Parse Error: Failed parsing SMILES 'O=C1ccccc2)c2ccccc2)c2ccccc2)c2ccccc2)c2ccccc2)c' for input: 'O=C1ccccc2)c2ccccc2)c2ccccc2)c2ccccc2)c2ccccc2)c'\n",
            "[12:25:35] SMILES Parse Error: extra close parentheses while parsing: CCOc1ccc(CC)c1)cccc1CCCCCCCCCCCCCCCCCCCCC\n",
            "[12:25:35] SMILES Parse Error: Failed parsing SMILES 'CCOc1ccc(CC)c1)cccc1CCCCCCCCCCCCCCCCCCCCC' for input: 'CCOc1ccc(CC)c1)cccc1CCCCCCCCCCCCCCCCCCCCC'\n",
            "[12:25:35] SMILES Parse Error: extra close parentheses while parsing: COc1ccc(CC)c1)cccc1CCCCCCCCCCCCCCCCCCCCCCCCCCCCC\n",
            "[12:25:35] SMILES Parse Error: Failed parsing SMILES 'COc1ccc(CC)c1)cccc1CCCCCCCCCCCCCCCCCCCCCCCCCCCCC' for input: 'COc1ccc(CC)c1)cccc1CCCCCCCCCCCCCCCCCCCCCCCCCCCCC'\n",
            "[12:25:35] SMILES Parse Error: unclosed ring for input: 'CCC1(C)CCCCCCCCCCCCCCCCC'\n",
            "[12:25:35] SMILES Parse Error: unclosed ring for input: 'Cc1ccc(CC)'\n",
            "[12:25:35] SMILES Parse Error: extra close parentheses while parsing: N#Cc1ccc(CC)c1)cccc1CCCCCC\n",
            "[12:25:35] SMILES Parse Error: Failed parsing SMILES 'N#Cc1ccc(CC)c1)cccc1CCCCCC' for input: 'N#Cc1ccc(CC)c1)cccc1CCCCCC'\n",
            "[12:25:35] SMILES Parse Error: extra open parentheses for input: 'O=C(CCCCCCCCCCCCCC'\n",
            "[12:25:35] SMILES Parse Error: unclosed ring for input: 'COc1ccc(CC)c'\n",
            "[12:25:35] SMILES Parse Error: extra open parentheses for input: 'CC[C@@H](C'\n",
            "[12:25:35] SMILES Parse Error: extra close parentheses while parsing: CCc1ccc(CC)c1)cc\n",
            "[12:25:35] SMILES Parse Error: Failed parsing SMILES 'CCc1ccc(CC)c1)cc' for input: 'CCc1ccc(CC)c1)cc'\n",
            "[12:25:35] SMILES Parse Error: extra close parentheses while parsing: CSc1ccc(CC)c1)cccc1CCCCCCCCCCCCCCCCCCCCCCCC\n",
            "[12:25:35] SMILES Parse Error: Failed parsing SMILES 'CSc1ccc(CC)c1)cccc1CCCCCCCCCCCCCCCCCCCCCCCC' for input: 'CSc1ccc(CC)c1)cccc1CCCCCCCCCCCCCCCCCCCCCCCC'\n",
            "[12:25:35] SMILES Parse Error: extra close parentheses while parsing: COc1ccc(CC)c1)cccc1CCCCCCCCCCCCCCCCCCCCCCCCCCCCCC\n",
            "[12:25:35] SMILES Parse Error: Failed parsing SMILES 'COc1ccc(CC)c1)cccc1CCCCCCCCCCCCCCCCCCCCCCCCCCCCCC' for input: 'COc1ccc(CC)c1)cccc1CCCCCCCCCCCCCCCCCCCCCCCCCCCCCC'\n",
            "[12:25:35] SMILES Parse Error: extra open parentheses for input: 'O=C(CCCCCCCCCCCCCCCCCCCCCCCCCCCCCCCC'\n",
            "[12:25:35] SMILES Parse Error: extra close parentheses while parsing: Cc1ccc(CC)c1)cccc1CCCCCCCCC\n",
            "[12:25:35] SMILES Parse Error: Failed parsing SMILES 'Cc1ccc(CC)c1)cccc1CCCCCCCCC' for input: 'Cc1ccc(CC)c1)cccc1CCCCCCCCC'\n",
            "[12:25:35] SMILES Parse Error: syntax error while parsing: Cc1cnc(CCCcC@cccc2)c2ccccc2)c2ccccc2)c2cccc\n",
            "[12:25:35] SMILES Parse Error: Failed parsing SMILES 'Cc1cnc(CCCcC@cccc2)c2ccccc2)c2ccccc2)c2cccc' for input: 'Cc1cnc(CCCcC@cccc2)c2ccccc2)c2ccccc2)c2cccc'\n",
            "[12:25:35] SMILES Parse Error: extra close parentheses while parsing: COc1ccc(CC)c1)cccc1CCCCCCCCCCCCCCCCCCCCCCCCCCCC\n",
            "[12:25:35] SMILES Parse Error: Failed parsing SMILES 'COc1ccc(CC)c1)cccc1CCCCCCCCCCCCCCCCCCCCCCCCCCCC' for input: 'COc1ccc(CC)c1)cccc1CCCCCCCCCCCCCCCCCCCCCCCCCCCC'\n",
            "[12:25:35] SMILES Parse Error: extra open parentheses for input: 'CC[C@@H](C'\n",
            "[12:25:35] SMILES Parse Error: extra close parentheses while parsing: Cc1ccc(CC)c1)cccc1CCCCCCCCCCCCCCCCCC\n",
            "[12:25:35] SMILES Parse Error: Failed parsing SMILES 'Cc1ccc(CC)c1)cccc1CCCCCCCCCCCCCCCCCC' for input: 'Cc1ccc(CC)c1)cccc1CCCCCCCCCCCCCCCCCC'\n",
            "[12:25:35] SMILES Parse Error: extra close parentheses while parsing: COc1ccc(CC)c1)cccc1CC\n",
            "[12:25:35] SMILES Parse Error: Failed parsing SMILES 'COc1ccc(CC)c1)cccc1CC' for input: 'COc1ccc(CC)c1)cccc1CC'\n",
            "[12:25:35] SMILES Parse Error: extra close parentheses while parsing: CCOc1ccc(CC)c1)cccc1CCCCCCCCCCCCCCCCCCCCCCCCCC\n",
            "[12:25:35] SMILES Parse Error: Failed parsing SMILES 'CCOc1ccc(CC)c1)cccc1CCCCCCCCCCCCCCCCCCCCCCCCCC' for input: 'CCOc1ccc(CC)c1)cccc1CCCCCCCCCCCCCCCCCCCCCCCCCC'\n",
            "[12:25:35] SMILES Parse Error: extra close parentheses while parsing: Cc1ccc(CC)c1)cccc1CCCCCCCCCCCCCCCCCCCCCCCCCC\n",
            "[12:25:35] SMILES Parse Error: Failed parsing SMILES 'Cc1ccc(CC)c1)cccc1CCCCCCCCCCCCCCCCCCCCCCCCCC' for input: 'Cc1ccc(CC)c1)cccc1CCCCCCCCCCCCCCCCCCCCCCCCCC'\n",
            "[12:25:35] SMILES Parse Error: extra open parentheses for input: 'C=C(CCCCCCCCCCCCCCCCCCC'\n",
            "[12:25:35] SMILES Parse Error: extra close parentheses while parsing: Cc1ccc(CC)c1)cccc1CCCCCCCCCCCCCCCCCC\n",
            "[12:25:35] SMILES Parse Error: Failed parsing SMILES 'Cc1ccc(CC)c1)cccc1CCCCCCCCCCCCCCCCCC' for input: 'Cc1ccc(CC)c1)cccc1CCCCCCCCCCCCCCCCCC'\n",
            "[12:25:35] SMILES Parse Error: extra open parentheses for input: 'O=C(CCCCCCCCCCCCCCCCCCCCCCCCCCCCCCCCCCCC'\n",
            "[12:25:35] SMILES Parse Error: extra open parentheses for input: 'COc1ccc(CC'\n",
            "[12:25:35] SMILES Parse Error: extra close parentheses while parsing: COc1ccc(CC)c1)cccc1CCCCCCCCCCCCCCCCC\n",
            "[12:25:35] SMILES Parse Error: Failed parsing SMILES 'COc1ccc(CC)c1)cccc1CCCCCCCCCCCCCCCCC' for input: 'COc1ccc(CC)c1)cccc1CCCCCCCCCCCCCCCCC'\n",
            "[12:25:35] SMILES Parse Error: extra close parentheses while parsing: COc1ccc(CC)c1)cccc1CCCCCCCC\n",
            "[12:25:35] SMILES Parse Error: Failed parsing SMILES 'COc1ccc(CC)c1)cccc1CCCCCCCC' for input: 'COc1ccc(CC)c1)cccc1CCCCCCCC'\n",
            "[12:25:35] SMILES Parse Error: unclosed ring for input: 'CCN1CCCCCCCCCC'\n",
            "[12:25:35] SMILES Parse Error: syntax error while parsing: CCCOcC@@c](C)CCCCCCCCCCCCCCCCCCCCCCCC\n",
            "[12:25:35] SMILES Parse Error: Failed parsing SMILES 'CCCOcC@@c](C)CCCCCCCCCCCCCCCCCCCCCCCC' for input: 'CCCOcC@@c](C)CCCCCCCCCCCCCCCCCCCCCCCC'\n",
            "[12:25:35] SMILES Parse Error: extra close parentheses while parsing: Cc1ccc(CC)c1)cccc1CCCCCCCCCCC\n",
            "[12:25:35] SMILES Parse Error: Failed parsing SMILES 'Cc1ccc(CC)c1)cccc1CCCCCCCCCCC' for input: 'Cc1ccc(CC)c1)cccc1CCCCCCCCCCC'\n",
            "[12:25:35] SMILES Parse Error: extra close parentheses while parsing: c1ccc(CC)c1)\n",
            "[12:25:35] SMILES Parse Error: Failed parsing SMILES 'c1ccc(CC)c1)' for input: 'c1ccc(CC)c1)'\n",
            "[12:25:35] SMILES Parse Error: extra close parentheses while parsing: Cc1ccc(CC)c1)cccc1CCCCCCCCCCCC\n",
            "[12:25:35] SMILES Parse Error: Failed parsing SMILES 'Cc1ccc(CC)c1)cccc1CCCCCCCCCCCC' for input: 'Cc1ccc(CC)c1)cccc1CCCCCCCCCCCC'\n",
            "[12:25:35] SMILES Parse Error: extra close parentheses while parsing: COc1ccc(CC)c1)cccc1CCCCCCCCCCCCCCCCCCCCCCC\n",
            "[12:25:35] SMILES Parse Error: Failed parsing SMILES 'COc1ccc(CC)c1)cccc1CCCCCCCCCCCCCCCCCCCCCCC' for input: 'COc1ccc(CC)c1)cccc1CCCCCCCCCCCCCCCCCCCCCCC'\n",
            "[12:25:35] SMILES Parse Error: extra close parentheses while parsing: Cc1ccc(CC)c1)cccc1CCCCCCCCCCCCCCCCCCCCCCCCCCCCCCCC\n",
            "[12:25:35] SMILES Parse Error: Failed parsing SMILES 'Cc1ccc(CC)c1)cccc1CCCCCCCCCCCCCCCCCCCCCCCCCCCCCCCC' for input: 'Cc1ccc(CC)c1)cccc1CCCCCCCCCCCCCCCCCCCCCCCCCCCCCCCC'\n",
            "[12:25:35] SMILES Parse Error: unclosed ring for input: 'O=C1/CCCCCCCCCCCCCCCCCCCCCCCCCCCCCCCCCCCCC'\n",
            "[12:25:35] SMILES Parse Error: unclosed ring for input: 'Cc1c(C)cccc'\n",
            "[12:25:35] SMILES Parse Error: extra close parentheses while parsing: Cc1ccc(CC)c1)cccc1CCCCCCCCCCCCC\n",
            "[12:25:35] SMILES Parse Error: Failed parsing SMILES 'Cc1ccc(CC)c1)cccc1CCCCCCCCCCCCC' for input: 'Cc1ccc(CC)c1)cccc1CCCCCCCCCCCCC'\n",
            "[12:25:35] SMILES Parse Error: extra close parentheses while parsing: CC[NH])c1ccc(CC)c1)c\n",
            "[12:25:35] SMILES Parse Error: Failed parsing SMILES 'CC[NH])c1ccc(CC)c1)c' for input: 'CC[NH])c1ccc(CC)c1)c'\n",
            "[12:25:35] Explicit valence for atom # 3 N, 4, is greater than permitted\n",
            "[12:25:35] SMILES Parse Error: extra close parentheses while parsing: Cc1ccc(CC)c1)cccc1CCCCCCCCCCCCCCCCCCCC\n",
            "[12:25:35] SMILES Parse Error: Failed parsing SMILES 'Cc1ccc(CC)c1)cccc1CCCCCCCCCCCCCCCCCCCC' for input: 'Cc1ccc(CC)c1)cccc1CCCCCCCCCCCCCCCCCCCC'\n",
            "[12:25:35] SMILES Parse Error: extra close parentheses while parsing: O=Cc1ccc(CC)c1)cccc1C\n",
            "[12:25:35] SMILES Parse Error: Failed parsing SMILES 'O=Cc1ccc(CC)c1)cccc1C' for input: 'O=Cc1ccc(CC)c1)cccc1C'\n",
            "[12:25:35] SMILES Parse Error: extra close parentheses while parsing: Clc1ccc(CC)c1)cccc1CCCCCC\n",
            "[12:25:35] SMILES Parse Error: Failed parsing SMILES 'Clc1ccc(CC)c1)cccc1CCCCCC' for input: 'Clc1ccc(CC)c1)cccc1CCCCCC'\n",
            "[12:25:35] SMILES Parse Error: syntax error while parsing: Cc1[nc@1)c2ccccc2)c2ccccc2)c2ccccc\n",
            "[12:25:35] SMILES Parse Error: Failed parsing SMILES 'Cc1[nc@1)c2ccccc2)c2ccccc2)c2ccccc' for input: 'Cc1[nc@1)c2ccccc2)c2ccccc2)c2ccccc'\n",
            "[12:25:35] SMILES Parse Error: extra close parentheses while parsing: Cc1ccc(CC)c1)cccc1CCCCCCCCCCCCCCCCCC\n",
            "[12:25:35] SMILES Parse Error: Failed parsing SMILES 'Cc1ccc(CC)c1)cccc1CCCCCCCCCCCCCCCCCC' for input: 'Cc1ccc(CC)c1)cccc1CCCCCCCCCCCCCCCCCC'\n",
            "[12:25:35] SMILES Parse Error: extra close parentheses while parsing: Cc1ccc(CC)c1)cccc1CCCCCCCCCCCCCCCCCCCC\n",
            "[12:25:35] SMILES Parse Error: Failed parsing SMILES 'Cc1ccc(CC)c1)cccc1CCCCCCCCCCCCCCCCCCCC' for input: 'Cc1ccc(CC)c1)cccc1CCCCCCCCCCCCCCCCCCCC'\n",
            "[12:25:35] SMILES Parse Error: extra close parentheses while parsing: CCc1ccc(CC)c1)cccc\n",
            "[12:25:35] SMILES Parse Error: Failed parsing SMILES 'CCc1ccc(CC)c1)cccc' for input: 'CCc1ccc(CC)c1)cccc'\n",
            "[12:25:35] SMILES Parse Error: extra close parentheses while parsing: Cc1ccc(CC)c1)cccc1CCCCCCCCCCCCCCCCCCCCCCCCCCCCCCCC\n",
            "[12:25:35] SMILES Parse Error: Failed parsing SMILES 'Cc1ccc(CC)c1)cccc1CCCCCCCCCCCCCCCCCCCCCCCCCCCCCCCC' for input: 'Cc1ccc(CC)c1)cccc1CCCCCCCCCCCCCCCCCCCCCCCCCCCCCCCC'\n",
            "[12:25:35] SMILES Parse Error: extra close parentheses while parsing: CCn1ccccc2)c2cc\n",
            "[12:25:35] SMILES Parse Error: Failed parsing SMILES 'CCn1ccccc2)c2cc' for input: 'CCn1ccccc2)c2cc'\n",
            "[12:25:35] SMILES Parse Error: extra close parentheses while parsing: O=C1OO)NCCCCCCCCC\n",
            "[12:25:35] SMILES Parse Error: Failed parsing SMILES 'O=C1OO)NCCCCCCCCC' for input: 'O=C1OO)NCCCCCCCCC'\n",
            "[12:25:35] SMILES Parse Error: unclosed ring for input: 'COCCnCC1CCCCCCCCCCCCCCCCCCCCCCCCCCCCCCCCCCCCCC'\n",
            "[12:25:35] SMILES Parse Error: extra close parentheses while parsing: Cc1ccc(CC)c1)cccc1CCCCCCCCCCCCCCCCCCC\n",
            "[12:25:35] SMILES Parse Error: Failed parsing SMILES 'Cc1ccc(CC)c1)cccc1CCCCCCCCCCCCCCCCCCC' for input: 'Cc1ccc(CC)c1)cccc1CCCCCCCCCCCCCCCCCCC'\n",
            "[12:25:35] SMILES Parse Error: extra close parentheses while parsing: Cc1ccc(CC)c1)cccc1CCC\n",
            "[12:25:35] SMILES Parse Error: Failed parsing SMILES 'Cc1ccc(CC)c1)cccc1CCC' for input: 'Cc1ccc(CC)c1)cccc1CCC'\n",
            "[12:25:35] SMILES Parse Error: extra close parentheses while parsing: COCc1ccc(CC)c1)cccc1CCCCCCCCCCC\n",
            "[12:25:35] SMILES Parse Error: Failed parsing SMILES 'COCc1ccc(CC)c1)cccc1CCCCCCCCCCC' for input: 'COCc1ccc(CC)c1)cccc1CCCCCCCCCCC'\n",
            "[12:25:35] SMILES Parse Error: extra open parentheses for input: 'O=C(CCCCCCCCC'\n",
            "[12:25:35] SMILES Parse Error: extra close parentheses while parsing: COc1ccc(CC)c1)cccc1CCCCCCCCCCCCCC\n",
            "[12:25:35] SMILES Parse Error: Failed parsing SMILES 'COc1ccc(CC)c1)cccc1CCCCCCCCCCCCCC' for input: 'COc1ccc(CC)c1)cccc1CCCCCCCCCCCCCC'\n",
            "[12:25:35] Can't kekulize mol.  Unkekulized atoms: 0 1 2 4 5 6 7\n",
            "[12:25:35] SMILES Parse Error: extra open parentheses for input: 'O=C(CCCCCCCCCCCC'\n",
            "[12:25:35] Explicit valence for atom # 3 N, 4, is greater than permitted\n",
            "[12:25:35] SMILES Parse Error: extra close parentheses while parsing: COc1ccc(CC)c1)cccc1CCCCCCCCCCCCCCCC\n",
            "[12:25:35] SMILES Parse Error: Failed parsing SMILES 'COc1ccc(CC)c1)cccc1CCCCCCCCCCCCCCCC' for input: 'COc1ccc(CC)c1)cccc1CCCCCCCCCCCCCCCC'\n",
            "[12:25:35] SMILES Parse Error: extra close parentheses while parsing: Cc1ccc(CC)c1)cccc1CCCCCCCCCCCCCCCCC\n",
            "[12:25:35] SMILES Parse Error: Failed parsing SMILES 'Cc1ccc(CC)c1)cccc1CCCCCCCCCCCCCCCCC' for input: 'Cc1ccc(CC)c1)cccc1CCCCCCCCCCCCCCCCC'\n",
            "[12:25:35] SMILES Parse Error: extra close parentheses while parsing: COc1ccc(CC)c1)cccc1CCCCC\n",
            "[12:25:35] SMILES Parse Error: Failed parsing SMILES 'COc1ccc(CC)c1)cccc1CCCCC' for input: 'COc1ccc(CC)c1)cccc1CCCCC'\n",
            "[12:25:35] SMILES Parse Error: extra close parentheses while parsing: Cc1ccc(CC)c1)cccc1CCCCCCCCCCCCC\n",
            "[12:25:35] SMILES Parse Error: Failed parsing SMILES 'Cc1ccc(CC)c1)cccc1CCCCCCCCCCCCC' for input: 'Cc1ccc(CC)c1)cccc1CCCCCCCCCCCCC'\n",
            "[12:25:35] SMILES Parse Error: extra close parentheses while parsing: Cc1ccc(CC)c1)cccc1CCCCCCCCCCCCCCCC\n",
            "[12:25:35] SMILES Parse Error: Failed parsing SMILES 'Cc1ccc(CC)c1)cccc1CCCCCCCCCCCCCCCC' for input: 'Cc1ccc(CC)c1)cccc1CCCCCCCCCCCCCCCC'\n",
            "[12:25:35] SMILES Parse Error: extra open parentheses for input: 'O=C(CCCCCCCCCCCCCCCCCCCCCCCCCCCCCCCCCCCCCCCC'\n",
            "[12:25:35] SMILES Parse Error: extra close parentheses while parsing: O=C(ccccc2)c2ccccc2)c2ccccc2)c2ccccc2)c2ccccc2\n",
            "[12:25:35] SMILES Parse Error: Failed parsing SMILES 'O=C(ccccc2)c2ccccc2)c2ccccc2)c2ccccc2)c2ccccc2' for input: 'O=C(ccccc2)c2ccccc2)c2ccccc2)c2ccccc2)c2ccccc2'\n",
            "[12:25:35] SMILES Parse Error: extra close parentheses while parsing: Cc1ccc(CC)c1)cccc1CC\n",
            "[12:25:35] SMILES Parse Error: Failed parsing SMILES 'Cc1ccc(CC)c1)cccc1CC' for input: 'Cc1ccc(CC)c1)cccc1CC'\n",
            "[12:25:35] SMILES Parse Error: extra close parentheses while parsing: CSc1ccc(CC)c1)cccc1CCC\n",
            "[12:25:35] SMILES Parse Error: Failed parsing SMILES 'CSc1ccc(CC)c1)cccc1CCC' for input: 'CSc1ccc(CC)c1)cccc1CCC'\n",
            "[12:25:35] SMILES Parse Error: extra close parentheses while parsing: Cc1ccc(CC)c1)ccc\n",
            "[12:25:35] SMILES Parse Error: Failed parsing SMILES 'Cc1ccc(CC)c1)ccc' for input: 'Cc1ccc(CC)c1)ccc'\n",
            "[12:25:35] SMILES Parse Error: extra close parentheses while parsing: COc1ccc(CC)c1)cccc1CCC\n",
            "[12:25:35] SMILES Parse Error: Failed parsing SMILES 'COc1ccc(CC)c1)cccc1CCC' for input: 'COc1ccc(CC)c1)cccc1CCC'\n",
            "[12:25:35] SMILES Parse Error: extra open parentheses for input: 'O=C(CCCCCCCCCCCCCCCCCCCCCCCCCC'\n",
            "[12:25:35] SMILES Parse Error: unclosed ring for input: 'CC1(C)CCCCCCC'\n",
            "[12:25:35] SMILES Parse Error: extra close parentheses while parsing: Cc1ccc(CC)c1)ccc\n",
            "[12:25:35] SMILES Parse Error: Failed parsing SMILES 'Cc1ccc(CC)c1)ccc' for input: 'Cc1ccc(CC)c1)ccc'\n",
            "[12:25:35] SMILES Parse Error: extra close parentheses while parsing: Cc1ccc(CC)c1)cccc1CCCCCCCCCCCCCCCCCCCCCCC\n",
            "[12:25:35] SMILES Parse Error: Failed parsing SMILES 'Cc1ccc(CC)c1)cccc1CCCCCCCCCCCCCCCCCCCCCCC' for input: 'Cc1ccc(CC)c1)cccc1CCCCCCCCCCCCCCCCCCCCCCC'\n",
            "[12:25:35] SMILES Parse Error: extra close parentheses while parsing: COc1ccc(CC)c1)cccc1CCCCCCCCCCCCCCCCCCCCCCCCCCCCCC\n",
            "[12:25:35] SMILES Parse Error: Failed parsing SMILES 'COc1ccc(CC)c1)cccc1CCCCCCCCCCCCCCCCCCCCCCCCCCCCCC' for input: 'COc1ccc(CC)c1)cccc1CCCCCCCCCCCCCCCCCCCCCCCCCCCCCC'\n",
            "[12:25:35] SMILES Parse Error: extra open parentheses for input: 'ClC(CCCCCCCCC'\n",
            "[12:25:35] SMILES Parse Error: extra close parentheses while parsing: CCc1sccccc2)c2cc\n",
            "[12:25:35] SMILES Parse Error: Failed parsing SMILES 'CCc1sccccc2)c2cc' for input: 'CCc1sccccc2)c2cc'\n"
          ]
        },
        {
          "data": {
            "text/html": [
              "<div>\n",
              "<style scoped>\n",
              "    .dataframe tbody tr th:only-of-type {\n",
              "        vertical-align: middle;\n",
              "    }\n",
              "\n",
              "    .dataframe tbody tr th {\n",
              "        vertical-align: top;\n",
              "    }\n",
              "\n",
              "    .dataframe thead th {\n",
              "        text-align: right;\n",
              "    }\n",
              "</style>\n",
              "<table border=\"1\" class=\"dataframe\">\n",
              "  <thead>\n",
              "    <tr style=\"text-align: right;\">\n",
              "      <th></th>\n",
              "      <th>smiles</th>\n",
              "      <th>qed</th>\n",
              "    </tr>\n",
              "  </thead>\n",
              "  <tbody>\n",
              "    <tr>\n",
              "      <th>0</th>\n",
              "      <td>CC(C)CCCCCCCCCCCCCC</td>\n",
              "      <td>0.312892</td>\n",
              "    </tr>\n",
              "    <tr>\n",
              "      <th>1</th>\n",
              "      <td>C[C@@H](C)CCCCCCCCCCCCCCCCCCCCCCCCCCCCCCC</td>\n",
              "      <td>0.089990</td>\n",
              "    </tr>\n",
              "    <tr>\n",
              "      <th>2</th>\n",
              "      <td>N#Cc1ccc(CC)c1)cccc1CCCCCCCCCCCCCCCC</td>\n",
              "      <td>0.000000</td>\n",
              "    </tr>\n",
              "    <tr>\n",
              "      <th>3</th>\n",
              "      <td>CCOC(=O)NCCCCCCCCCCCCCCCCCCCCCCCCCCCC</td>\n",
              "      <td>0.112793</td>\n",
              "    </tr>\n",
              "    <tr>\n",
              "      <th>4</th>\n",
              "      <td>N#CC1CCCCCCCCCCCCCCCCCCCCCCCCCCCCCCCCCCC</td>\n",
              "      <td>0.000000</td>\n",
              "    </tr>\n",
              "  </tbody>\n",
              "</table>\n",
              "</div>"
            ],
            "text/plain": [
              "                                      smiles       qed\n",
              "0                        CC(C)CCCCCCCCCCCCCC  0.312892\n",
              "1  C[C@@H](C)CCCCCCCCCCCCCCCCCCCCCCCCCCCCCCC  0.089990\n",
              "2       N#Cc1ccc(CC)c1)cccc1CCCCCCCCCCCCCCCC  0.000000\n",
              "3      CCOC(=O)NCCCCCCCCCCCCCCCCCCCCCCCCCCCC  0.112793\n",
              "4   N#CC1CCCCCCCCCCCCCCCCCCCCCCCCCCCCCCCCCCC  0.000000"
            ]
          },
          "execution_count": 186,
          "metadata": {},
          "output_type": "execute_result"
        }
      ],
      "source": [
        "#compute QED\n",
        "\n",
        "from rdkit.Chem import QED\n",
        "\n",
        "def compute_qed(smiles):\n",
        "    try:\n",
        "        mol = Chem.MolFromSmiles(smiles)\n",
        "        qed = QED.qed(mol)\n",
        "    except:\n",
        "        qed = 0\n",
        "    return qed\n",
        "\n",
        "generated['qed'] = generated['smiles'].map(lambda x: compute_qed(x))\n",
        "\n",
        "generated.head()"
      ]
    },
    {
      "cell_type": "markdown",
      "metadata": {
        "id": "9En9mvfOyyiZ"
      },
      "source": [
        "Bonus 1 : Using rdkit, compute the quantitative estimation of drug-likeness (QED) of your generated molecules."
      ]
    },
    {
      "cell_type": "code",
      "execution_count": null,
      "metadata": {
        "id": "xEVMckghyyia"
      },
      "outputs": [],
      "source": []
    },
    {
      "cell_type": "markdown",
      "metadata": {
        "id": "PtCbYnIuyyib"
      },
      "source": [
        "Bonus 2 : try to adapt a transformer model training from hugging face to see if it is better"
      ]
    },
    {
      "cell_type": "code",
      "execution_count": null,
      "metadata": {
        "id": "SnMy9_I1yyib"
      },
      "outputs": [],
      "source": []
    }
  ],
  "metadata": {
    "colab": {
      "provenance": []
    },
    "kernelspec": {
      "display_name": "Python 3 (ipykernel)",
      "language": "python",
      "name": "python3"
    },
    "language_info": {
      "codemirror_mode": {
        "name": "ipython",
        "version": 3
      },
      "file_extension": ".py",
      "mimetype": "text/x-python",
      "name": "python",
      "nbconvert_exporter": "python",
      "pygments_lexer": "ipython3",
      "version": "3.11.5"
    }
  },
  "nbformat": 4,
  "nbformat_minor": 0
}
